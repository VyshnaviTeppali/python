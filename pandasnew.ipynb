{
 "cells": [
  {
   "cell_type": "code",
   "execution_count": 29,
   "id": "5b58fc3f-8f6f-4b2e-ac5e-acab26b54cf4",
   "metadata": {},
   "outputs": [],
   "source": [
    "import pandas as pd\n",
    "df=pd.read_csv(\"D:/Data Engineer Vyshu/customer_shopping_data.csv[1]/customer_shopping_data.csv\")"
   ]
  },
  {
   "cell_type": "code",
   "execution_count": 5,
   "id": "4cf43052-76cc-4e20-9954-9686f2b70392",
   "metadata": {},
   "outputs": [
    {
     "data": {
      "text/plain": [
       "(99457, 10)"
      ]
     },
     "execution_count": 5,
     "metadata": {},
     "output_type": "execute_result"
    }
   ],
   "source": [
    "df.shape"
   ]
  },
  {
   "cell_type": "code",
   "execution_count": 6,
   "id": "14d1411c-d725-4678-8709-fb45742f6ba6",
   "metadata": {},
   "outputs": [
    {
     "data": {
      "text/html": [
       "<div>\n",
       "<style scoped>\n",
       "    .dataframe tbody tr th:only-of-type {\n",
       "        vertical-align: middle;\n",
       "    }\n",
       "\n",
       "    .dataframe tbody tr th {\n",
       "        vertical-align: top;\n",
       "    }\n",
       "\n",
       "    .dataframe thead th {\n",
       "        text-align: right;\n",
       "    }\n",
       "</style>\n",
       "<table border=\"1\" class=\"dataframe\">\n",
       "  <thead>\n",
       "    <tr style=\"text-align: right;\">\n",
       "      <th></th>\n",
       "      <th>invoice_no</th>\n",
       "      <th>customer_id</th>\n",
       "      <th>gender</th>\n",
       "      <th>age</th>\n",
       "      <th>category</th>\n",
       "      <th>quantity</th>\n",
       "      <th>price</th>\n",
       "      <th>payment_method</th>\n",
       "      <th>invoice_date</th>\n",
       "      <th>shopping_mall</th>\n",
       "    </tr>\n",
       "  </thead>\n",
       "  <tbody>\n",
       "    <tr>\n",
       "      <th>0</th>\n",
       "      <td>I138884</td>\n",
       "      <td>C241288</td>\n",
       "      <td>Female</td>\n",
       "      <td>28</td>\n",
       "      <td>Clothing</td>\n",
       "      <td>5</td>\n",
       "      <td>1500.40</td>\n",
       "      <td>Credit Card</td>\n",
       "      <td>5/8/2022</td>\n",
       "      <td>Kanyon</td>\n",
       "    </tr>\n",
       "    <tr>\n",
       "      <th>1</th>\n",
       "      <td>I317333</td>\n",
       "      <td>C111565</td>\n",
       "      <td>Male</td>\n",
       "      <td>21</td>\n",
       "      <td>Shoes</td>\n",
       "      <td>3</td>\n",
       "      <td>1800.51</td>\n",
       "      <td>Debit Card</td>\n",
       "      <td>12/12/2021</td>\n",
       "      <td>Forum Istanbul</td>\n",
       "    </tr>\n",
       "    <tr>\n",
       "      <th>2</th>\n",
       "      <td>I127801</td>\n",
       "      <td>C266599</td>\n",
       "      <td>Male</td>\n",
       "      <td>20</td>\n",
       "      <td>Clothing</td>\n",
       "      <td>1</td>\n",
       "      <td>300.08</td>\n",
       "      <td>Cash</td>\n",
       "      <td>9/11/2021</td>\n",
       "      <td>Metrocity</td>\n",
       "    </tr>\n",
       "    <tr>\n",
       "      <th>3</th>\n",
       "      <td>I173702</td>\n",
       "      <td>C988172</td>\n",
       "      <td>Female</td>\n",
       "      <td>66</td>\n",
       "      <td>Shoes</td>\n",
       "      <td>5</td>\n",
       "      <td>3000.85</td>\n",
       "      <td>Credit Card</td>\n",
       "      <td>16/05/2021</td>\n",
       "      <td>Metropol AVM</td>\n",
       "    </tr>\n",
       "    <tr>\n",
       "      <th>4</th>\n",
       "      <td>I337046</td>\n",
       "      <td>C189076</td>\n",
       "      <td>Female</td>\n",
       "      <td>53</td>\n",
       "      <td>Books</td>\n",
       "      <td>4</td>\n",
       "      <td>60.60</td>\n",
       "      <td>Cash</td>\n",
       "      <td>24/10/2021</td>\n",
       "      <td>Kanyon</td>\n",
       "    </tr>\n",
       "  </tbody>\n",
       "</table>\n",
       "</div>"
      ],
      "text/plain": [
       "  invoice_no customer_id  gender  age  category  quantity    price  \\\n",
       "0    I138884     C241288  Female   28  Clothing         5  1500.40   \n",
       "1    I317333     C111565    Male   21     Shoes         3  1800.51   \n",
       "2    I127801     C266599    Male   20  Clothing         1   300.08   \n",
       "3    I173702     C988172  Female   66     Shoes         5  3000.85   \n",
       "4    I337046     C189076  Female   53     Books         4    60.60   \n",
       "\n",
       "  payment_method invoice_date   shopping_mall  \n",
       "0    Credit Card     5/8/2022          Kanyon  \n",
       "1     Debit Card   12/12/2021  Forum Istanbul  \n",
       "2           Cash    9/11/2021       Metrocity  \n",
       "3    Credit Card   16/05/2021    Metropol AVM  \n",
       "4           Cash   24/10/2021          Kanyon  "
      ]
     },
     "execution_count": 6,
     "metadata": {},
     "output_type": "execute_result"
    }
   ],
   "source": [
    "# Display the first 5 rows\n",
    "df.head(5)"
   ]
  },
  {
   "cell_type": "code",
   "execution_count": 7,
   "id": "a5f46115-8245-466e-b9d7-5649d2d1ca3c",
   "metadata": {},
   "outputs": [
    {
     "data": {
      "text/plain": [
       "invoice_no         object\n",
       "customer_id        object\n",
       "gender             object\n",
       "age                 int64\n",
       "category           object\n",
       "quantity            int64\n",
       "price             float64\n",
       "payment_method     object\n",
       "invoice_date       object\n",
       "shopping_mall      object\n",
       "dtype: object"
      ]
     },
     "execution_count": 7,
     "metadata": {},
     "output_type": "execute_result"
    }
   ],
   "source": [
    "# Show the data types of each column\n",
    "df.dtypes"
   ]
  },
  {
   "cell_type": "code",
   "execution_count": 8,
   "id": "02e780f1-0d15-4c2a-942b-0726ea5489e2",
   "metadata": {},
   "outputs": [
    {
     "data": {
      "text/plain": [
       "invoice_no        99457\n",
       "customer_id       99457\n",
       "gender                2\n",
       "age                  52\n",
       "category              8\n",
       "quantity              5\n",
       "price                40\n",
       "payment_method        3\n",
       "invoice_date        797\n",
       "shopping_mall        10\n",
       "dtype: int64"
      ]
     },
     "execution_count": 8,
     "metadata": {},
     "output_type": "execute_result"
    }
   ],
   "source": [
    "# Find the number of unique values in the gender column\n",
    "df.nunique()"
   ]
  },
  {
   "cell_type": "code",
   "execution_count": 9,
   "id": "0230d191-b955-49b2-85d0-46c0b3d91046",
   "metadata": {},
   "outputs": [
    {
     "data": {
      "text/plain": [
       "Index(['invoice_no', 'customer_id', 'gender', 'age', 'category', 'quantity',\n",
       "       'price', 'payment_method', 'invoice_date', 'shopping_mall'],\n",
       "      dtype='object')"
      ]
     },
     "execution_count": 9,
     "metadata": {},
     "output_type": "execute_result"
    }
   ],
   "source": [
    "# Display the maximum and minimum age of customers\n",
    "df.columns"
   ]
  },
  {
   "cell_type": "code",
   "execution_count": 10,
   "id": "03064f8c-bcbc-4a8b-8d0b-40d53e9c1568",
   "metadata": {},
   "outputs": [
    {
     "name": "stdout",
     "output_type": "stream",
     "text": [
      "69\n",
      "18\n"
     ]
    }
   ],
   "source": [
    "print(df['age'].max())\n",
    "print(df['age'].min())"
   ]
  },
  {
   "cell_type": "code",
   "execution_count": 11,
   "id": "cfd00b2d-0142-498e-aaa3-fd171a51b502",
   "metadata": {},
   "outputs": [
    {
     "data": {
      "text/plain": [
       "invoice_no        0\n",
       "customer_id       0\n",
       "gender            0\n",
       "age               0\n",
       "category          0\n",
       "quantity          0\n",
       "price             0\n",
       "payment_method    0\n",
       "invoice_date      0\n",
       "shopping_mall     0\n",
       "dtype: int64"
      ]
     },
     "execution_count": 11,
     "metadata": {},
     "output_type": "execute_result"
    }
   ],
   "source": [
    "# Count null values in each column\n",
    "df.isnull().sum()"
   ]
  },
  {
   "cell_type": "code",
   "execution_count": 12,
   "id": "c7a88ecc-ff23-490e-bc9e-aa74512f0c77",
   "metadata": {},
   "outputs": [],
   "source": [
    "# Filter transactions where payment_method is \"cash\"\n",
    "filter_df=df[df['payment_method']=='Cash']"
   ]
  },
  {
   "cell_type": "code",
   "execution_count": 13,
   "id": "c0861323-0754-434a-8b78-9e529e4e4368",
   "metadata": {},
   "outputs": [
    {
     "data": {
      "text/html": [
       "<div>\n",
       "<style scoped>\n",
       "    .dataframe tbody tr th:only-of-type {\n",
       "        vertical-align: middle;\n",
       "    }\n",
       "\n",
       "    .dataframe tbody tr th {\n",
       "        vertical-align: top;\n",
       "    }\n",
       "\n",
       "    .dataframe thead th {\n",
       "        text-align: right;\n",
       "    }\n",
       "</style>\n",
       "<table border=\"1\" class=\"dataframe\">\n",
       "  <thead>\n",
       "    <tr style=\"text-align: right;\">\n",
       "      <th></th>\n",
       "      <th>invoice_no</th>\n",
       "      <th>customer_id</th>\n",
       "      <th>gender</th>\n",
       "      <th>age</th>\n",
       "      <th>category</th>\n",
       "      <th>quantity</th>\n",
       "      <th>price</th>\n",
       "      <th>payment_method</th>\n",
       "      <th>invoice_date</th>\n",
       "      <th>shopping_mall</th>\n",
       "    </tr>\n",
       "  </thead>\n",
       "  <tbody>\n",
       "    <tr>\n",
       "      <th>2</th>\n",
       "      <td>I127801</td>\n",
       "      <td>C266599</td>\n",
       "      <td>Male</td>\n",
       "      <td>20</td>\n",
       "      <td>Clothing</td>\n",
       "      <td>1</td>\n",
       "      <td>300.08</td>\n",
       "      <td>Cash</td>\n",
       "      <td>9/11/2021</td>\n",
       "      <td>Metrocity</td>\n",
       "    </tr>\n",
       "    <tr>\n",
       "      <th>4</th>\n",
       "      <td>I337046</td>\n",
       "      <td>C189076</td>\n",
       "      <td>Female</td>\n",
       "      <td>53</td>\n",
       "      <td>Books</td>\n",
       "      <td>4</td>\n",
       "      <td>60.60</td>\n",
       "      <td>Cash</td>\n",
       "      <td>24/10/2021</td>\n",
       "      <td>Kanyon</td>\n",
       "    </tr>\n",
       "    <tr>\n",
       "      <th>6</th>\n",
       "      <td>I121056</td>\n",
       "      <td>C151197</td>\n",
       "      <td>Female</td>\n",
       "      <td>49</td>\n",
       "      <td>Cosmetics</td>\n",
       "      <td>1</td>\n",
       "      <td>40.66</td>\n",
       "      <td>Cash</td>\n",
       "      <td>13/03/2022</td>\n",
       "      <td>Istinye Park</td>\n",
       "    </tr>\n",
       "    <tr>\n",
       "      <th>10</th>\n",
       "      <td>I306368</td>\n",
       "      <td>C240286</td>\n",
       "      <td>Female</td>\n",
       "      <td>36</td>\n",
       "      <td>Food &amp; Beverage</td>\n",
       "      <td>2</td>\n",
       "      <td>10.46</td>\n",
       "      <td>Cash</td>\n",
       "      <td>25/12/2022</td>\n",
       "      <td>Metrocity</td>\n",
       "    </tr>\n",
       "    <tr>\n",
       "      <th>13</th>\n",
       "      <td>I179802</td>\n",
       "      <td>C312861</td>\n",
       "      <td>Male</td>\n",
       "      <td>25</td>\n",
       "      <td>Clothing</td>\n",
       "      <td>2</td>\n",
       "      <td>600.16</td>\n",
       "      <td>Cash</td>\n",
       "      <td>17/11/2022</td>\n",
       "      <td>Cevahir AVM</td>\n",
       "    </tr>\n",
       "    <tr>\n",
       "      <th>...</th>\n",
       "      <td>...</td>\n",
       "      <td>...</td>\n",
       "      <td>...</td>\n",
       "      <td>...</td>\n",
       "      <td>...</td>\n",
       "      <td>...</td>\n",
       "      <td>...</td>\n",
       "      <td>...</td>\n",
       "      <td>...</td>\n",
       "      <td>...</td>\n",
       "    </tr>\n",
       "    <tr>\n",
       "      <th>99449</th>\n",
       "      <td>I134399</td>\n",
       "      <td>C953724</td>\n",
       "      <td>Male</td>\n",
       "      <td>65</td>\n",
       "      <td>Clothing</td>\n",
       "      <td>1</td>\n",
       "      <td>300.08</td>\n",
       "      <td>Cash</td>\n",
       "      <td>1/1/2023</td>\n",
       "      <td>Kanyon</td>\n",
       "    </tr>\n",
       "    <tr>\n",
       "      <th>99450</th>\n",
       "      <td>I170504</td>\n",
       "      <td>C226974</td>\n",
       "      <td>Female</td>\n",
       "      <td>28</td>\n",
       "      <td>Books</td>\n",
       "      <td>1</td>\n",
       "      <td>15.15</td>\n",
       "      <td>Cash</td>\n",
       "      <td>28/02/2023</td>\n",
       "      <td>Zorlu Center</td>\n",
       "    </tr>\n",
       "    <tr>\n",
       "      <th>99451</th>\n",
       "      <td>I675411</td>\n",
       "      <td>C513603</td>\n",
       "      <td>Male</td>\n",
       "      <td>50</td>\n",
       "      <td>Toys</td>\n",
       "      <td>5</td>\n",
       "      <td>179.20</td>\n",
       "      <td>Cash</td>\n",
       "      <td>9/10/2021</td>\n",
       "      <td>Metropol AVM</td>\n",
       "    </tr>\n",
       "    <tr>\n",
       "      <th>99453</th>\n",
       "      <td>I325143</td>\n",
       "      <td>C569580</td>\n",
       "      <td>Male</td>\n",
       "      <td>27</td>\n",
       "      <td>Food &amp; Beverage</td>\n",
       "      <td>2</td>\n",
       "      <td>10.46</td>\n",
       "      <td>Cash</td>\n",
       "      <td>22/09/2021</td>\n",
       "      <td>Forum Istanbul</td>\n",
       "    </tr>\n",
       "    <tr>\n",
       "      <th>99455</th>\n",
       "      <td>I702964</td>\n",
       "      <td>C800631</td>\n",
       "      <td>Male</td>\n",
       "      <td>56</td>\n",
       "      <td>Technology</td>\n",
       "      <td>4</td>\n",
       "      <td>4200.00</td>\n",
       "      <td>Cash</td>\n",
       "      <td>16/03/2021</td>\n",
       "      <td>Istinye Park</td>\n",
       "    </tr>\n",
       "  </tbody>\n",
       "</table>\n",
       "<p>44447 rows × 10 columns</p>\n",
       "</div>"
      ],
      "text/plain": [
       "      invoice_no customer_id  gender  age         category  quantity    price  \\\n",
       "2        I127801     C266599    Male   20         Clothing         1   300.08   \n",
       "4        I337046     C189076  Female   53            Books         4    60.60   \n",
       "6        I121056     C151197  Female   49        Cosmetics         1    40.66   \n",
       "10       I306368     C240286  Female   36  Food & Beverage         2    10.46   \n",
       "13       I179802     C312861    Male   25         Clothing         2   600.16   \n",
       "...          ...         ...     ...  ...              ...       ...      ...   \n",
       "99449    I134399     C953724    Male   65         Clothing         1   300.08   \n",
       "99450    I170504     C226974  Female   28            Books         1    15.15   \n",
       "99451    I675411     C513603    Male   50             Toys         5   179.20   \n",
       "99453    I325143     C569580    Male   27  Food & Beverage         2    10.46   \n",
       "99455    I702964     C800631    Male   56       Technology         4  4200.00   \n",
       "\n",
       "      payment_method invoice_date   shopping_mall  \n",
       "2               Cash    9/11/2021       Metrocity  \n",
       "4               Cash   24/10/2021          Kanyon  \n",
       "6               Cash   13/03/2022    Istinye Park  \n",
       "10              Cash   25/12/2022       Metrocity  \n",
       "13              Cash   17/11/2022     Cevahir AVM  \n",
       "...              ...          ...             ...  \n",
       "99449           Cash     1/1/2023          Kanyon  \n",
       "99450           Cash   28/02/2023    Zorlu Center  \n",
       "99451           Cash    9/10/2021    Metropol AVM  \n",
       "99453           Cash   22/09/2021  Forum Istanbul  \n",
       "99455           Cash   16/03/2021    Istinye Park  \n",
       "\n",
       "[44447 rows x 10 columns]"
      ]
     },
     "execution_count": 13,
     "metadata": {},
     "output_type": "execute_result"
    }
   ],
   "source": [
    "filter_df"
   ]
  },
  {
   "cell_type": "code",
   "execution_count": 14,
   "id": "5da02c99-8d79-45c1-a336-7ef5deec550f",
   "metadata": {},
   "outputs": [],
   "source": [
    "# Filter rows for transactions at \"MetroCity Mall\"\n",
    "\n",
    "transaction_filter=df[df[\"shopping_mall\"]==\"Metrocity\"]"
   ]
  },
  {
   "cell_type": "code",
   "execution_count": 15,
   "id": "270efdba-42a8-4af6-a037-a9bc3a733458",
   "metadata": {},
   "outputs": [
    {
     "data": {
      "text/html": [
       "<div>\n",
       "<style scoped>\n",
       "    .dataframe tbody tr th:only-of-type {\n",
       "        vertical-align: middle;\n",
       "    }\n",
       "\n",
       "    .dataframe tbody tr th {\n",
       "        vertical-align: top;\n",
       "    }\n",
       "\n",
       "    .dataframe thead th {\n",
       "        text-align: right;\n",
       "    }\n",
       "</style>\n",
       "<table border=\"1\" class=\"dataframe\">\n",
       "  <thead>\n",
       "    <tr style=\"text-align: right;\">\n",
       "      <th></th>\n",
       "      <th>invoice_no</th>\n",
       "      <th>customer_id</th>\n",
       "      <th>gender</th>\n",
       "      <th>age</th>\n",
       "      <th>category</th>\n",
       "      <th>quantity</th>\n",
       "      <th>price</th>\n",
       "      <th>payment_method</th>\n",
       "      <th>invoice_date</th>\n",
       "      <th>shopping_mall</th>\n",
       "    </tr>\n",
       "  </thead>\n",
       "  <tbody>\n",
       "    <tr>\n",
       "      <th>2</th>\n",
       "      <td>I127801</td>\n",
       "      <td>C266599</td>\n",
       "      <td>Male</td>\n",
       "      <td>20</td>\n",
       "      <td>Clothing</td>\n",
       "      <td>1</td>\n",
       "      <td>300.08</td>\n",
       "      <td>Cash</td>\n",
       "      <td>9/11/2021</td>\n",
       "      <td>Metrocity</td>\n",
       "    </tr>\n",
       "    <tr>\n",
       "      <th>8</th>\n",
       "      <td>I293455</td>\n",
       "      <td>C159642</td>\n",
       "      <td>Male</td>\n",
       "      <td>69</td>\n",
       "      <td>Clothing</td>\n",
       "      <td>3</td>\n",
       "      <td>900.24</td>\n",
       "      <td>Credit Card</td>\n",
       "      <td>4/11/2021</td>\n",
       "      <td>Metrocity</td>\n",
       "    </tr>\n",
       "    <tr>\n",
       "      <th>10</th>\n",
       "      <td>I306368</td>\n",
       "      <td>C240286</td>\n",
       "      <td>Female</td>\n",
       "      <td>36</td>\n",
       "      <td>Food &amp; Beverage</td>\n",
       "      <td>2</td>\n",
       "      <td>10.46</td>\n",
       "      <td>Cash</td>\n",
       "      <td>25/12/2022</td>\n",
       "      <td>Metrocity</td>\n",
       "    </tr>\n",
       "    <tr>\n",
       "      <th>12</th>\n",
       "      <td>I640508</td>\n",
       "      <td>C225330</td>\n",
       "      <td>Female</td>\n",
       "      <td>67</td>\n",
       "      <td>Toys</td>\n",
       "      <td>4</td>\n",
       "      <td>143.36</td>\n",
       "      <td>Debit Card</td>\n",
       "      <td>31/07/2022</td>\n",
       "      <td>Metrocity</td>\n",
       "    </tr>\n",
       "    <tr>\n",
       "      <th>16</th>\n",
       "      <td>I294687</td>\n",
       "      <td>C300786</td>\n",
       "      <td>Male</td>\n",
       "      <td>65</td>\n",
       "      <td>Books</td>\n",
       "      <td>2</td>\n",
       "      <td>30.30</td>\n",
       "      <td>Debit Card</td>\n",
       "      <td>16/01/2021</td>\n",
       "      <td>Metrocity</td>\n",
       "    </tr>\n",
       "    <tr>\n",
       "      <th>...</th>\n",
       "      <td>...</td>\n",
       "      <td>...</td>\n",
       "      <td>...</td>\n",
       "      <td>...</td>\n",
       "      <td>...</td>\n",
       "      <td>...</td>\n",
       "      <td>...</td>\n",
       "      <td>...</td>\n",
       "      <td>...</td>\n",
       "      <td>...</td>\n",
       "    </tr>\n",
       "    <tr>\n",
       "      <th>99405</th>\n",
       "      <td>I651573</td>\n",
       "      <td>C425890</td>\n",
       "      <td>Male</td>\n",
       "      <td>56</td>\n",
       "      <td>Shoes</td>\n",
       "      <td>3</td>\n",
       "      <td>1800.51</td>\n",
       "      <td>Debit Card</td>\n",
       "      <td>2/8/2022</td>\n",
       "      <td>Metrocity</td>\n",
       "    </tr>\n",
       "    <tr>\n",
       "      <th>99408</th>\n",
       "      <td>I949512</td>\n",
       "      <td>C217355</td>\n",
       "      <td>Female</td>\n",
       "      <td>47</td>\n",
       "      <td>Clothing</td>\n",
       "      <td>2</td>\n",
       "      <td>600.16</td>\n",
       "      <td>Credit Card</td>\n",
       "      <td>21/02/2021</td>\n",
       "      <td>Metrocity</td>\n",
       "    </tr>\n",
       "    <tr>\n",
       "      <th>99424</th>\n",
       "      <td>I549710</td>\n",
       "      <td>C541824</td>\n",
       "      <td>Female</td>\n",
       "      <td>34</td>\n",
       "      <td>Technology</td>\n",
       "      <td>3</td>\n",
       "      <td>3150.00</td>\n",
       "      <td>Cash</td>\n",
       "      <td>13/01/2021</td>\n",
       "      <td>Metrocity</td>\n",
       "    </tr>\n",
       "    <tr>\n",
       "      <th>99433</th>\n",
       "      <td>I403904</td>\n",
       "      <td>C142643</td>\n",
       "      <td>Male</td>\n",
       "      <td>28</td>\n",
       "      <td>Toys</td>\n",
       "      <td>1</td>\n",
       "      <td>35.84</td>\n",
       "      <td>Credit Card</td>\n",
       "      <td>2/11/2022</td>\n",
       "      <td>Metrocity</td>\n",
       "    </tr>\n",
       "    <tr>\n",
       "      <th>99454</th>\n",
       "      <td>I824010</td>\n",
       "      <td>C103292</td>\n",
       "      <td>Male</td>\n",
       "      <td>63</td>\n",
       "      <td>Food &amp; Beverage</td>\n",
       "      <td>2</td>\n",
       "      <td>10.46</td>\n",
       "      <td>Debit Card</td>\n",
       "      <td>28/03/2021</td>\n",
       "      <td>Metrocity</td>\n",
       "    </tr>\n",
       "  </tbody>\n",
       "</table>\n",
       "<p>15011 rows × 10 columns</p>\n",
       "</div>"
      ],
      "text/plain": [
       "      invoice_no customer_id  gender  age         category  quantity    price  \\\n",
       "2        I127801     C266599    Male   20         Clothing         1   300.08   \n",
       "8        I293455     C159642    Male   69         Clothing         3   900.24   \n",
       "10       I306368     C240286  Female   36  Food & Beverage         2    10.46   \n",
       "12       I640508     C225330  Female   67             Toys         4   143.36   \n",
       "16       I294687     C300786    Male   65            Books         2    30.30   \n",
       "...          ...         ...     ...  ...              ...       ...      ...   \n",
       "99405    I651573     C425890    Male   56            Shoes         3  1800.51   \n",
       "99408    I949512     C217355  Female   47         Clothing         2   600.16   \n",
       "99424    I549710     C541824  Female   34       Technology         3  3150.00   \n",
       "99433    I403904     C142643    Male   28             Toys         1    35.84   \n",
       "99454    I824010     C103292    Male   63  Food & Beverage         2    10.46   \n",
       "\n",
       "      payment_method invoice_date shopping_mall  \n",
       "2               Cash    9/11/2021     Metrocity  \n",
       "8        Credit Card    4/11/2021     Metrocity  \n",
       "10              Cash   25/12/2022     Metrocity  \n",
       "12        Debit Card   31/07/2022     Metrocity  \n",
       "16        Debit Card   16/01/2021     Metrocity  \n",
       "...              ...          ...           ...  \n",
       "99405     Debit Card     2/8/2022     Metrocity  \n",
       "99408    Credit Card   21/02/2021     Metrocity  \n",
       "99424           Cash   13/01/2021     Metrocity  \n",
       "99433    Credit Card    2/11/2022     Metrocity  \n",
       "99454     Debit Card   28/03/2021     Metrocity  \n",
       "\n",
       "[15011 rows x 10 columns]"
      ]
     },
     "execution_count": 15,
     "metadata": {},
     "output_type": "execute_result"
    }
   ],
   "source": [
    "transaction_filter"
   ]
  },
  {
   "cell_type": "code",
   "execution_count": null,
   "id": "5a0215d0-44f0-46f7-8bca-12d6c0a715ad",
   "metadata": {},
   "outputs": [],
   "source": []
  },
  {
   "cell_type": "code",
   "execution_count": 16,
   "id": "97f60ff6-07e2-4d03-b415-38b0a35fa56b",
   "metadata": {},
   "outputs": [],
   "source": [
    "# Count the number of customers by gender\n",
    "female_count=(df[\"gender\"]==\"Female\").sum()\n",
    "male_count=(df[\"gender\"]==\"Male\").sum()"
   ]
  },
  {
   "cell_type": "code",
   "execution_count": 17,
   "id": "6d8fe3bc-d5eb-4bc4-8285-bc74fdd46610",
   "metadata": {},
   "outputs": [
    {
     "name": "stdout",
     "output_type": "stream",
     "text": [
      "59482\n",
      "39975\n"
     ]
    }
   ],
   "source": [
    "print(female_count)\n",
    "print(male_count)"
   ]
  },
  {
   "cell_type": "code",
   "execution_count": null,
   "id": "6e540fec-a4f7-4c91-8f5f-78ebbdf234da",
   "metadata": {},
   "outputs": [],
   "source": []
  },
  {
   "cell_type": "code",
   "execution_count": 18,
   "id": "e0921953-dff9-4232-a58d-1a9555f10c37",
   "metadata": {},
   "outputs": [],
   "source": [
    "# Rename the invoice_no column to invoice_number\n",
    "df.rename(columns={'invoice_no': 'invoice_number'}, inplace=True)"
   ]
  },
  {
   "cell_type": "code",
   "execution_count": 19,
   "id": "8a9a2094-9c0a-40db-9ae8-1795795a4def",
   "metadata": {},
   "outputs": [
    {
     "data": {
      "text/plain": [
       "0        I138884\n",
       "1        I317333\n",
       "2        I127801\n",
       "3        I173702\n",
       "4        I337046\n",
       "          ...   \n",
       "99452    I219422\n",
       "99453    I325143\n",
       "99454    I824010\n",
       "99455    I702964\n",
       "99456    I232867\n",
       "Name: invoice_number, Length: 99457, dtype: object"
      ]
     },
     "execution_count": 19,
     "metadata": {},
     "output_type": "execute_result"
    }
   ],
   "source": [
    "df[\"invoice_number\"]"
   ]
  },
  {
   "cell_type": "code",
   "execution_count": null,
   "id": "4741d5b8-c84f-4e54-9f38-2e98d15f0df4",
   "metadata": {},
   "outputs": [],
   "source": []
  },
  {
   "cell_type": "markdown",
   "id": "f0374e11-2027-4b9b-8835-fb2b9e8dca29",
   "metadata": {},
   "source": [
    " ####Intermediate-Level (Filtering, Grouping, Aggregation)"
   ]
  },
  {
   "cell_type": "code",
   "execution_count": 30,
   "id": "10b7a79b-65a6-4717-8770-c8a54e041b56",
   "metadata": {},
   "outputs": [],
   "source": [
    "#Create a column total_price = quantity × price\n",
    "df[\"total_price\"]=df['quantity']*df['price']"
   ]
  },
  {
   "cell_type": "code",
   "execution_count": 21,
   "id": "2d356d0a-ba32-4d3c-a14e-a053d078b987",
   "metadata": {},
   "outputs": [
    {
     "data": {
      "text/plain": [
       "0         7502.00\n",
       "1         5401.53\n",
       "2          300.08\n",
       "3        15004.25\n",
       "4          242.40\n",
       "           ...   \n",
       "99452      293.25\n",
       "99453       20.92\n",
       "99454       20.92\n",
       "99455    16800.00\n",
       "99456      105.57\n",
       "Name: total_price, Length: 99457, dtype: float64"
      ]
     },
     "execution_count": 21,
     "metadata": {},
     "output_type": "execute_result"
    }
   ],
   "source": [
    "df[\"total_price\"]"
   ]
  },
  {
   "cell_type": "code",
   "execution_count": 22,
   "id": "6fe265fe-726d-4c77-bedf-586d7df368af",
   "metadata": {},
   "outputs": [
    {
     "data": {
      "text/plain": [
       "Index(['invoice_number', 'customer_id', 'gender', 'age', 'category',\n",
       "       'quantity', 'price', 'payment_method', 'invoice_date', 'shopping_mall',\n",
       "       'total_price'],\n",
       "      dtype='object')"
      ]
     },
     "execution_count": 22,
     "metadata": {},
     "output_type": "execute_result"
    }
   ],
   "source": [
    "df.columns"
   ]
  },
  {
   "cell_type": "code",
   "execution_count": null,
   "id": "32bd6f78-af28-4b45-8caf-819159ac9688",
   "metadata": {},
   "outputs": [],
   "source": []
  },
  {
   "cell_type": "code",
   "execution_count": 23,
   "id": "c0f6fa62-72b7-4eae-a04c-4904cfd8d759",
   "metadata": {},
   "outputs": [
    {
     "data": {
      "text/plain": [
       "category\n",
       "Books                45.568621\n",
       "Clothing            901.084021\n",
       "Cosmetics           122.448626\n",
       "Food & Beverage      15.671948\n",
       "Shoes              1807.388568\n",
       "Souvenir             34.894345\n",
       "Technology         3156.935548\n",
       "Toys                107.733185\n",
       "Name: price, dtype: float64"
      ]
     },
     "execution_count": 23,
     "metadata": {},
     "output_type": "execute_result"
    }
   ],
   "source": [
    "# Find the average price by category\n",
    "df.groupby(\"category\")[\"price\"].mean()"
   ]
  },
  {
   "cell_type": "code",
   "execution_count": null,
   "id": "decdaf43-2fd7-45b4-b870-20848f05d8c8",
   "metadata": {},
   "outputs": [],
   "source": []
  },
  {
   "cell_type": "code",
   "execution_count": 24,
   "id": "775cd05e-0963-49bd-bd6f-4063e7fc3d32",
   "metadata": {},
   "outputs": [
    {
     "data": {
      "text/plain": [
       "payment_method\n",
       "Cash           133370\n",
       "Credit Card    105045\n",
       "Debit Card      60297\n",
       "Name: quantity, dtype: int64"
      ]
     },
     "execution_count": 24,
     "metadata": {},
     "output_type": "execute_result"
    }
   ],
   "source": [
    "# Group by payment_method and sum quantity\n",
    "df.groupby(\"payment_method\")[\"quantity\"].sum()"
   ]
  },
  {
   "cell_type": "code",
   "execution_count": null,
   "id": "120f138e-36ae-4827-b609-ddcd14bbc61a",
   "metadata": {},
   "outputs": [],
   "source": []
  },
  {
   "cell_type": "code",
   "execution_count": 25,
   "id": "81d98481-a878-4882-b877-8a0b887393dd",
   "metadata": {},
   "outputs": [
    {
     "data": {
      "text/plain": [
       "gender\n",
       "Female    43.453515\n",
       "Male      43.387767\n",
       "Name: age, dtype: float64"
      ]
     },
     "execution_count": 25,
     "metadata": {},
     "output_type": "execute_result"
    }
   ],
   "source": [
    "# Calculate average age grouped by gender\n",
    "df.groupby(\"gender\")[\"age\"].mean()"
   ]
  },
  {
   "cell_type": "code",
   "execution_count": null,
   "id": "44eb7c16-370a-4319-bb18-297becc8f3cc",
   "metadata": {},
   "outputs": [],
   "source": []
  },
  {
   "cell_type": "code",
   "execution_count": 26,
   "id": "1bbcc015-81f7-42cb-a018-872cb10abaca",
   "metadata": {},
   "outputs": [
    {
     "data": {
      "text/plain": [
       "<Axes: title={'center': 'Transaction counts per shopping_mall'}, xlabel='shopping_mall', ylabel='transaction counts'>"
      ]
     },
     "execution_count": 26,
     "metadata": {},
     "output_type": "execute_result"
    },
    {
     "data": {
      "image/png": "[encoded data removed]",
      "text/plain": [
       "<Figure size 640x480 with 1 Axes>"
      ]
     },
     "metadata": {},
     "output_type": "display_data"
    }
   ],
   "source": [
    "# Create a bar chart of transaction counts per shopping_mall\n",
    "import matplotlib.pyplot as pt\n",
    "mall_counts=df[\"shopping_mall\"].value_counts()\n",
    "pt.xlabel(\"shopping_mall\")\n",
    "pt.ylabel(\"transaction counts\")\n",
    "pt.title(\"Transaction counts per shopping_mall\")\n",
    "mall_counts.plot(kind=\"bar\")\n",
    "\n"
   ]
  },
  {
   "cell_type": "code",
   "execution_count": 27,
   "id": "3766f140-46ca-4b38-8f5f-3dbf18bd1663",
   "metadata": {},
   "outputs": [
    {
     "data": {
      "text/plain": [
       "Index(['invoice_number', 'customer_id', 'gender', 'age', 'category',\n",
       "       'quantity', 'price', 'payment_method', 'invoice_date', 'shopping_mall',\n",
       "       'total_price'],\n",
       "      dtype='object')"
      ]
     },
     "execution_count": 27,
     "metadata": {},
     "output_type": "execute_result"
    }
   ],
   "source": [
    "df.columns"
   ]
  },
  {
   "cell_type": "code",
   "execution_count": 36,
   "id": "22454fc2-0e6f-4f98-90b3-02ee9c91f701",
   "metadata": {},
   "outputs": [
    {
     "data": {
      "text/plain": [
       "customer_id\n",
       "C100004    I178410\n",
       "C100005    I158163\n",
       "C100006    I262373\n",
       "C100012    I334895\n",
       "C100019    I202043\n",
       "            ...   \n",
       "C999886    I325647\n",
       "C999910    I256358\n",
       "C999974    I143068\n",
       "C999976    I219600\n",
       "C999995    I200805\n",
       "Name: invoice_no, Length: 99457, dtype: object"
      ]
     },
     "execution_count": 36,
     "metadata": {},
     "output_type": "execute_result"
    }
   ],
   "source": [
    "# Count the number of invoices per customer_id\n",
    "df.groupby('customer_id')['invoice_no'].sum()"
   ]
  },
  {
   "cell_type": "code",
   "execution_count": null,
   "id": "051057bc-1c24-4845-a429-028013c9e568",
   "metadata": {},
   "outputs": [],
   "source": [
    "_customers=df.groupby(\"customer_id\")[\"total_price\"].sum()"
   ]
  },
  {
   "cell_type": "code",
   "execution_count": null,
   "id": "261cd0fa-19fa-4acc-b54b-490314b2a7ac",
   "metadata": {},
   "outputs": [],
   "source": [
    "_customers.head(5)"
   ]
  },
  {
   "cell_type": "code",
   "execution_count": null,
   "id": "ae2aeb25-74c4-4ac4-9d31-48a41762fc88",
   "metadata": {},
   "outputs": [],
   "source": [
    "# List top 5 customers by total_price\n",
    "top_customers=df.groupby(\"customer_id\")[\"total_price\"].sum().sort_values(ascending=False)"
   ]
  },
  {
   "cell_type": "code",
   "execution_count": null,
   "id": "1f468caf-358e-4bd2-b5fa-4034825a943d",
   "metadata": {},
   "outputs": [],
   "source": [
    "top_customers.head(5)"
   ]
  },
  {
   "cell_type": "code",
   "execution_count": null,
   "id": "194189a9-875d-4c26-ae12-840b6fad5cc5",
   "metadata": {},
   "outputs": [],
   "source": [
    "df.columns"
   ]
  },
  {
   "cell_type": "code",
   "execution_count": null,
   "id": "3277144f-22cf-4945-88b4-09f7e2fdb22e",
   "metadata": {},
   "outputs": [],
   "source": [
    "# Find top 3 most purchased category values\n",
    "df.groupby('category')['quantity'].sum().sort_values(ascending=False).head(3)"
   ]
  },
  {
   "cell_type": "code",
   "execution_count": null,
   "id": "83d2b298-cef7-4a66-887f-c6b729db1b1d",
   "metadata": {},
   "outputs": [],
   "source": []
  },
  {
   "cell_type": "code",
   "execution_count": null,
   "id": "2a59421a-8235-4eba-b762-228868ba4c8a",
   "metadata": {},
   "outputs": [],
   "source": []
  },
  {
   "cell_type": "code",
   "execution_count": null,
   "id": "cd969b19-d46a-48cd-9a59-035782f865fe",
   "metadata": {},
   "outputs": [],
   "source": [
    "df.head(5)"
   ]
  },
  {
   "cell_type": "code",
   "execution_count": 31,
   "id": "d788527f-0ab1-4f26-bc12-ff94e63d3af2",
   "metadata": {},
   "outputs": [],
   "source": [
    "df[\"invoice_date\"] = pd.to_datetime(df[\"invoice_date\"],dayfirst=True)\n"
   ]
  },
  {
   "cell_type": "code",
   "execution_count": null,
   "id": "55b8d803-0f20-4a4e-ad01-0f65f034d518",
   "metadata": {},
   "outputs": [],
   "source": [
    "df[\"invoice_date\"] "
   ]
  },
  {
   "cell_type": "code",
   "execution_count": null,
   "id": "b28cf35f-189d-4c57-a7e0-0f46886dce60",
   "metadata": {},
   "outputs": [],
   "source": []
  },
  {
   "cell_type": "code",
   "execution_count": null,
   "id": "3ec3ca31-0030-4b50-a336-f709b5094a2f",
   "metadata": {},
   "outputs": [],
   "source": []
  },
  {
   "cell_type": "code",
   "execution_count": 37,
   "id": "e31edfbf-a796-4e46-83f5-20f612accd9f",
   "metadata": {},
   "outputs": [],
   "source": [
    "# Extract month from invoice_date and create a month column\n",
    "df['month'] = df['invoice_date'].dt.month"
   ]
  },
  {
   "cell_type": "code",
   "execution_count": null,
   "id": "940547a2-5376-4ad6-bb69-fd86b7e5df7c",
   "metadata": {},
   "outputs": [],
   "source": [
    "df[\"month\"]"
   ]
  },
  {
   "cell_type": "code",
   "execution_count": null,
   "id": "63838148-afb6-46e0-871e-1fe5290a5853",
   "metadata": {},
   "outputs": [],
   "source": []
  },
  {
   "cell_type": "markdown",
   "id": "80bd4e02-329f-4282-8d94-a437212abd54",
   "metadata": {},
   "source": [
    "#### Advanced-Level (Date Logic, Analysis, Visualization)"
   ]
  },
  {
   "cell_type": "code",
   "execution_count": null,
   "id": "4ca569ac-596d-4fc2-a87d-c5f6a617e1d8",
   "metadata": {},
   "outputs": [],
   "source": [
    "# Find the customer who spent the most\n",
    "df.groupby(\"customer_id\")['total_price'].max().head(1)"
   ]
  },
  {
   "cell_type": "code",
   "execution_count": null,
   "id": "7f14b954-b4d2-4103-a155-46d06adb5ff3",
   "metadata": {},
   "outputs": [],
   "source": []
  },
  {
   "cell_type": "code",
   "execution_count": null,
   "id": "a9b2c7fd-64e2-48f3-98da-bdb6db5ffc99",
   "metadata": {},
   "outputs": [],
   "source": [
    "# Count transactions made on weekends\n",
    "# Extract day of week (Monday = 0, Sunday = 6)\n",
    "df['day_of_week'] = df['invoice_date'].dt.dayofweek\n",
    "\n",
    "# Filter weekends (Saturday = 5, Sunday = 6)\n",
    "weekend_transactions = df[df['day_of_week'].isin([5, 6])]"
   ]
  },
  {
   "cell_type": "code",
   "execution_count": null,
   "id": "9bb89242-e6b5-4b96-b2e7-5d5a71e8d1db",
   "metadata": {},
   "outputs": [],
   "source": [
    "df['day_of_week']"
   ]
  },
  {
   "cell_type": "code",
   "execution_count": null,
   "id": "1457aedc-e0a1-4e91-8f0e-3956e0c8014a",
   "metadata": {},
   "outputs": [],
   "source": [
    "weekend_count = len(weekend_transactions)"
   ]
  },
  {
   "cell_type": "code",
   "execution_count": null,
   "id": "5ef9a5d5-455d-4c19-85ad-da9eaf7fc800",
   "metadata": {},
   "outputs": [],
   "source": [
    "weekend_count"
   ]
  },
  {
   "cell_type": "code",
   "execution_count": null,
   "id": "eabcd2f0-025f-46d2-b151-77196f5fc63c",
   "metadata": {},
   "outputs": [],
   "source": []
  },
  {
   "cell_type": "code",
   "execution_count": 40,
   "id": "79801204-9d01-4fa8-a531-91b0117a731c",
   "metadata": {},
   "outputs": [],
   "source": [
    "# Find which shopping mall had the highest sales in December\n",
    "dec_sales=df[df[\"month\"]==12]\n"
   ]
  },
  {
   "cell_type": "code",
   "execution_count": 41,
   "id": "69b55cf7-52c4-4d3a-b39c-466f8f0f4f63",
   "metadata": {},
   "outputs": [
    {
     "data": {
      "text/html": [
       "<div>\n",
       "<style scoped>\n",
       "    .dataframe tbody tr th:only-of-type {\n",
       "        vertical-align: middle;\n",
       "    }\n",
       "\n",
       "    .dataframe tbody tr th {\n",
       "        vertical-align: top;\n",
       "    }\n",
       "\n",
       "    .dataframe thead th {\n",
       "        text-align: right;\n",
       "    }\n",
       "</style>\n",
       "<table border=\"1\" class=\"dataframe\">\n",
       "  <thead>\n",
       "    <tr style=\"text-align: right;\">\n",
       "      <th></th>\n",
       "      <th>invoice_no</th>\n",
       "      <th>customer_id</th>\n",
       "      <th>gender</th>\n",
       "      <th>age</th>\n",
       "      <th>category</th>\n",
       "      <th>quantity</th>\n",
       "      <th>price</th>\n",
       "      <th>payment_method</th>\n",
       "      <th>invoice_date</th>\n",
       "      <th>shopping_mall</th>\n",
       "      <th>total_price</th>\n",
       "      <th>day_of_week</th>\n",
       "      <th>month</th>\n",
       "    </tr>\n",
       "  </thead>\n",
       "  <tbody>\n",
       "    <tr>\n",
       "      <th>1</th>\n",
       "      <td>I317333</td>\n",
       "      <td>C111565</td>\n",
       "      <td>Male</td>\n",
       "      <td>21</td>\n",
       "      <td>Shoes</td>\n",
       "      <td>3</td>\n",
       "      <td>1800.51</td>\n",
       "      <td>Debit Card</td>\n",
       "      <td>2021-12-12</td>\n",
       "      <td>Forum Istanbul</td>\n",
       "      <td>5401.53</td>\n",
       "      <td>6</td>\n",
       "      <td>12</td>\n",
       "    </tr>\n",
       "    <tr>\n",
       "      <th>10</th>\n",
       "      <td>I306368</td>\n",
       "      <td>C240286</td>\n",
       "      <td>Female</td>\n",
       "      <td>36</td>\n",
       "      <td>Food &amp; Beverage</td>\n",
       "      <td>2</td>\n",
       "      <td>10.46</td>\n",
       "      <td>Cash</td>\n",
       "      <td>2022-12-25</td>\n",
       "      <td>Metrocity</td>\n",
       "      <td>20.92</td>\n",
       "      <td>6</td>\n",
       "      <td>12</td>\n",
       "    </tr>\n",
       "    <tr>\n",
       "      <th>24</th>\n",
       "      <td>I174250</td>\n",
       "      <td>C204553</td>\n",
       "      <td>Female</td>\n",
       "      <td>42</td>\n",
       "      <td>Books</td>\n",
       "      <td>5</td>\n",
       "      <td>75.75</td>\n",
       "      <td>Cash</td>\n",
       "      <td>2022-12-16</td>\n",
       "      <td>Metrocity</td>\n",
       "      <td>378.75</td>\n",
       "      <td>4</td>\n",
       "      <td>12</td>\n",
       "    </tr>\n",
       "    <tr>\n",
       "      <th>39</th>\n",
       "      <td>I473411</td>\n",
       "      <td>C452806</td>\n",
       "      <td>Male</td>\n",
       "      <td>24</td>\n",
       "      <td>Clothing</td>\n",
       "      <td>1</td>\n",
       "      <td>300.08</td>\n",
       "      <td>Cash</td>\n",
       "      <td>2022-12-19</td>\n",
       "      <td>Metropol AVM</td>\n",
       "      <td>300.08</td>\n",
       "      <td>0</td>\n",
       "      <td>12</td>\n",
       "    </tr>\n",
       "    <tr>\n",
       "      <th>45</th>\n",
       "      <td>I117291</td>\n",
       "      <td>C134449</td>\n",
       "      <td>Male</td>\n",
       "      <td>46</td>\n",
       "      <td>Books</td>\n",
       "      <td>5</td>\n",
       "      <td>75.75</td>\n",
       "      <td>Credit Card</td>\n",
       "      <td>2022-12-09</td>\n",
       "      <td>Zorlu Center</td>\n",
       "      <td>378.75</td>\n",
       "      <td>4</td>\n",
       "      <td>12</td>\n",
       "    </tr>\n",
       "    <tr>\n",
       "      <th>...</th>\n",
       "      <td>...</td>\n",
       "      <td>...</td>\n",
       "      <td>...</td>\n",
       "      <td>...</td>\n",
       "      <td>...</td>\n",
       "      <td>...</td>\n",
       "      <td>...</td>\n",
       "      <td>...</td>\n",
       "      <td>...</td>\n",
       "      <td>...</td>\n",
       "      <td>...</td>\n",
       "      <td>...</td>\n",
       "      <td>...</td>\n",
       "    </tr>\n",
       "    <tr>\n",
       "      <th>99374</th>\n",
       "      <td>I221532</td>\n",
       "      <td>C956894</td>\n",
       "      <td>Male</td>\n",
       "      <td>36</td>\n",
       "      <td>Technology</td>\n",
       "      <td>3</td>\n",
       "      <td>3150.00</td>\n",
       "      <td>Credit Card</td>\n",
       "      <td>2021-12-24</td>\n",
       "      <td>Metropol AVM</td>\n",
       "      <td>9450.00</td>\n",
       "      <td>4</td>\n",
       "      <td>12</td>\n",
       "    </tr>\n",
       "    <tr>\n",
       "      <th>99388</th>\n",
       "      <td>I705676</td>\n",
       "      <td>C154530</td>\n",
       "      <td>Female</td>\n",
       "      <td>27</td>\n",
       "      <td>Technology</td>\n",
       "      <td>2</td>\n",
       "      <td>2100.00</td>\n",
       "      <td>Cash</td>\n",
       "      <td>2021-12-06</td>\n",
       "      <td>Metrocity</td>\n",
       "      <td>4200.00</td>\n",
       "      <td>0</td>\n",
       "      <td>12</td>\n",
       "    </tr>\n",
       "    <tr>\n",
       "      <th>99416</th>\n",
       "      <td>I143010</td>\n",
       "      <td>C922388</td>\n",
       "      <td>Male</td>\n",
       "      <td>55</td>\n",
       "      <td>Food &amp; Beverage</td>\n",
       "      <td>5</td>\n",
       "      <td>26.15</td>\n",
       "      <td>Cash</td>\n",
       "      <td>2021-12-22</td>\n",
       "      <td>Cevahir AVM</td>\n",
       "      <td>130.75</td>\n",
       "      <td>2</td>\n",
       "      <td>12</td>\n",
       "    </tr>\n",
       "    <tr>\n",
       "      <th>99428</th>\n",
       "      <td>I184085</td>\n",
       "      <td>C175610</td>\n",
       "      <td>Female</td>\n",
       "      <td>33</td>\n",
       "      <td>Cosmetics</td>\n",
       "      <td>3</td>\n",
       "      <td>121.98</td>\n",
       "      <td>Credit Card</td>\n",
       "      <td>2021-12-11</td>\n",
       "      <td>Mall of Istanbul</td>\n",
       "      <td>365.94</td>\n",
       "      <td>5</td>\n",
       "      <td>12</td>\n",
       "    </tr>\n",
       "    <tr>\n",
       "      <th>99431</th>\n",
       "      <td>I191779</td>\n",
       "      <td>C131280</td>\n",
       "      <td>Male</td>\n",
       "      <td>26</td>\n",
       "      <td>Cosmetics</td>\n",
       "      <td>4</td>\n",
       "      <td>162.64</td>\n",
       "      <td>Credit Card</td>\n",
       "      <td>2021-12-28</td>\n",
       "      <td>Mall of Istanbul</td>\n",
       "      <td>650.56</td>\n",
       "      <td>1</td>\n",
       "      <td>12</td>\n",
       "    </tr>\n",
       "  </tbody>\n",
       "</table>\n",
       "<p>7680 rows × 13 columns</p>\n",
       "</div>"
      ],
      "text/plain": [
       "      invoice_no customer_id  gender  age         category  quantity    price  \\\n",
       "1        I317333     C111565    Male   21            Shoes         3  1800.51   \n",
       "10       I306368     C240286  Female   36  Food & Beverage         2    10.46   \n",
       "24       I174250     C204553  Female   42            Books         5    75.75   \n",
       "39       I473411     C452806    Male   24         Clothing         1   300.08   \n",
       "45       I117291     C134449    Male   46            Books         5    75.75   \n",
       "...          ...         ...     ...  ...              ...       ...      ...   \n",
       "99374    I221532     C956894    Male   36       Technology         3  3150.00   \n",
       "99388    I705676     C154530  Female   27       Technology         2  2100.00   \n",
       "99416    I143010     C922388    Male   55  Food & Beverage         5    26.15   \n",
       "99428    I184085     C175610  Female   33        Cosmetics         3   121.98   \n",
       "99431    I191779     C131280    Male   26        Cosmetics         4   162.64   \n",
       "\n",
       "      payment_method invoice_date     shopping_mall  total_price  day_of_week  \\\n",
       "1         Debit Card   2021-12-12    Forum Istanbul      5401.53            6   \n",
       "10              Cash   2022-12-25         Metrocity        20.92            6   \n",
       "24              Cash   2022-12-16         Metrocity       378.75            4   \n",
       "39              Cash   2022-12-19      Metropol AVM       300.08            0   \n",
       "45       Credit Card   2022-12-09      Zorlu Center       378.75            4   \n",
       "...              ...          ...               ...          ...          ...   \n",
       "99374    Credit Card   2021-12-24      Metropol AVM      9450.00            4   \n",
       "99388           Cash   2021-12-06         Metrocity      4200.00            0   \n",
       "99416           Cash   2021-12-22       Cevahir AVM       130.75            2   \n",
       "99428    Credit Card   2021-12-11  Mall of Istanbul       365.94            5   \n",
       "99431    Credit Card   2021-12-28  Mall of Istanbul       650.56            1   \n",
       "\n",
       "       month  \n",
       "1         12  \n",
       "10        12  \n",
       "24        12  \n",
       "39        12  \n",
       "45        12  \n",
       "...      ...  \n",
       "99374     12  \n",
       "99388     12  \n",
       "99416     12  \n",
       "99428     12  \n",
       "99431     12  \n",
       "\n",
       "[7680 rows x 13 columns]"
      ]
     },
     "execution_count": 41,
     "metadata": {},
     "output_type": "execute_result"
    }
   ],
   "source": [
    "dec_sales"
   ]
  },
  {
   "cell_type": "code",
   "execution_count": 42,
   "id": "33203463-8402-45cb-8c26-f5c779634654",
   "metadata": {},
   "outputs": [],
   "source": [
    "highest_sales=dec_sales.groupby(\"shopping_mall\")[\"total_price\"].sum().sort_values(ascending=False).head(1)"
   ]
  },
  {
   "cell_type": "code",
   "execution_count": 43,
   "id": "25166a76-f4d6-4707-b54a-dcf35ba113d5",
   "metadata": {},
   "outputs": [
    {
     "data": {
      "text/plain": [
       "shopping_mall\n",
       "Kanyon    3965478.96\n",
       "Name: total_price, dtype: float64"
      ]
     },
     "execution_count": 43,
     "metadata": {},
     "output_type": "execute_result"
    }
   ],
   "source": [
    "highest_sales"
   ]
  },
  {
   "cell_type": "code",
   "execution_count": null,
   "id": "828f8c51-1cea-43fe-bb84-2d6457e76f81",
   "metadata": {},
   "outputs": [],
   "source": []
  },
  {
   "cell_type": "code",
   "execution_count": null,
   "id": "84e55b6c-d999-45cb-a782-4106778eb5a5",
   "metadata": {},
   "outputs": [],
   "source": [
    "# Calculate the average transaction value\n",
    "\n",
    "avg_transaction_val=df[\"total_price\"].mean()"
   ]
  },
  {
   "cell_type": "code",
   "execution_count": null,
   "id": "b00e3df0-85bc-49e0-8889-24b7d55827d4",
   "metadata": {},
   "outputs": [],
   "source": [
    "print(avg_transaction_val)"
   ]
  },
  {
   "cell_type": "code",
   "execution_count": null,
   "id": "0895fbce-e55d-495c-b6a4-f2ce644bad71",
   "metadata": {},
   "outputs": [],
   "source": []
  },
  {
   "cell_type": "code",
   "execution_count": null,
   "id": "0d16d46c-9980-4b04-9f2a-b17fefc3f9c2",
   "metadata": {},
   "outputs": [],
   "source": [
    "# Create a pivot table with average price by category and gender\n",
    "pivot_table = df.pivot_table(values='total_price', index='category', columns='gender', aggfunc='mean')"
   ]
  },
  {
   "cell_type": "code",
   "execution_count": null,
   "id": "b18d26fd-4209-41e1-b290-bcada2c43bd5",
   "metadata": {},
   "outputs": [],
   "source": [
    "pivot_table"
   ]
  },
  {
   "cell_type": "code",
   "execution_count": null,
   "id": "59782cef-53cd-4ba4-8e4d-272d96142be8",
   "metadata": {},
   "outputs": [],
   "source": []
  },
  {
   "cell_type": "code",
   "execution_count": null,
   "id": "92a6aad6-5e81-4a79-89e8-5717482e5e90",
   "metadata": {},
   "outputs": [],
   "source": [
    "# Plot daily revenue trends\n",
    "daily_trends=df.groupby('invoice_date')['total_price'].sum()"
   ]
  },
  {
   "cell_type": "code",
   "execution_count": null,
   "id": "221bbcee-5ac5-42f9-8bb6-33e3eba1a3da",
   "metadata": {},
   "outputs": [],
   "source": [
    "daily_trends"
   ]
  },
  {
   "cell_type": "code",
   "execution_count": null,
   "id": "162c638b-f92c-4729-a9f4-c6a96c9fa466",
   "metadata": {},
   "outputs": [],
   "source": [
    "\n",
    "daily_trends.plot(kind=\"line\")"
   ]
  },
  {
   "cell_type": "code",
   "execution_count": null,
   "id": "1b6d7add-cb5e-4a69-9ba8-bee6035065a4",
   "metadata": {},
   "outputs": [],
   "source": []
  },
  {
   "cell_type": "code",
   "execution_count": 32,
   "id": "a6ac7a80-c78a-4cb9-b403-8d4087aca9a6",
   "metadata": {},
   "outputs": [],
   "source": [
    "# Determine which day of the week has the most transactions\n",
    "df['day_of_week'] = df['invoice_date'].dt.dayofweek"
   ]
  },
  {
   "cell_type": "code",
   "execution_count": 33,
   "id": "d62c59aa-b2bc-4816-b122-300df102b4cd",
   "metadata": {},
   "outputs": [
    {
     "name": "stdout",
     "output_type": "stream",
     "text": [
      "day_of_week\n",
      "0    14383\n",
      "4    14347\n",
      "1    14217\n",
      "6    14140\n",
      "3    14129\n",
      "5    14121\n",
      "2    14120\n",
      "Name: count, dtype: int64\n"
     ]
    }
   ],
   "source": [
    "transactions_per_day=df['day_of_week'].value_counts()\n",
    "print(transactions_per_day)"
   ]
  },
  {
   "cell_type": "code",
   "execution_count": 34,
   "id": "fc2ce46e-5bbc-40a1-a273-77aa7aa37f97",
   "metadata": {},
   "outputs": [],
   "source": [
    "most_transactions_day = transactions_per_day.idxmax()\n",
    "\n",
    "# Map the day number to its name (0 = Monday, 6 = Sunday)\n",
    "days = ['Monday', 'Tuesday', 'Wednesday', 'Thursday', 'Friday', 'Saturday', 'Sunday']\n",
    "most_transactions_day_name = days[most_transactions_day]"
   ]
  },
  {
   "cell_type": "code",
   "execution_count": 35,
   "id": "4abf0cbf-d07f-4f74-9196-c85830168bbc",
   "metadata": {},
   "outputs": [
    {
     "data": {
      "text/plain": [
       "'Monday'"
      ]
     },
     "execution_count": 35,
     "metadata": {},
     "output_type": "execute_result"
    }
   ],
   "source": [
    "most_transactions_day_name"
   ]
  },
  {
   "cell_type": "code",
   "execution_count": null,
   "id": "694d40a8-ca55-4bd8-9e0f-b0c00df97977",
   "metadata": {},
   "outputs": [],
   "source": [
    "print(most_transactions_day)"
   ]
  },
  {
   "cell_type": "code",
   "execution_count": null,
   "id": "6ecc4a5c-303d-4364-9790-8ee84fd9afae",
   "metadata": {},
   "outputs": [],
   "source": []
  },
  {
   "cell_type": "code",
   "execution_count": null,
   "id": "b872a26e-4747-49ac-be66-7278871931e9",
   "metadata": {},
   "outputs": [],
   "source": [
    "# Create age buckets (e.g., 0–20, 21–40, 41–60, 61+)\n",
    "# Create age buckets in an easy way\n",
    "df['age_bucket'] = pd.cut(df['age'], bins=[0, 20, 40, 60, 100], labels=['0-20', '21-40', '41-60', '61+'])\n",
    "\n"
   ]
  },
  {
   "cell_type": "code",
   "execution_count": null,
   "id": "2751daa8-420c-43c0-8e0f-815e60665b89",
   "metadata": {},
   "outputs": [],
   "source": [
    "df['age_bucket']"
   ]
  },
  {
   "cell_type": "code",
   "execution_count": null,
   "id": "b39d677c-07dd-4bba-9f36-acc441772adb",
   "metadata": {},
   "outputs": [],
   "source": [
    "df[\"invoice_date\"]=pd.to_datetime(df[\"invoice_date\"],dayfirst=True)\n"
   ]
  },
  {
   "cell_type": "code",
   "execution_count": null,
   "id": "53b89344-6eba-4f4e-9258-4517314cd018",
   "metadata": {},
   "outputs": [],
   "source": [
    "# Add a column is_weekend based on invoice_date\n",
    "df[\"is_weekend\"]=df[\"invoice_date\"].dt.dayofweek>=5\n"
   ]
  },
  {
   "cell_type": "code",
   "execution_count": null,
   "id": "feed193a-d134-458e-8c47-ccb33e65cf9b",
   "metadata": {},
   "outputs": [],
   "source": [
    "df[\"is_weekend\"]\n"
   ]
  },
  {
   "cell_type": "code",
   "execution_count": null,
   "id": "f99ac29e-fd8b-4c53-a934-241428ef3d92",
   "metadata": {},
   "outputs": [],
   "source": [
    "df.head(50)"
   ]
  },
  {
   "cell_type": "code",
   "execution_count": null,
   "id": "c8479bf6-18ee-4a89-b850-54149a4fab0f",
   "metadata": {},
   "outputs": [],
   "source": []
  },
  {
   "cell_type": "code",
   "execution_count": null,
   "id": "3ad6f4e1-21eb-484f-b8a5-d87ca687a163",
   "metadata": {},
   "outputs": [],
   "source": [
    "# Find the most popular payment_method per shopping_mall\n"
   ]
  },
  {
   "cell_type": "code",
   "execution_count": null,
   "id": "0ab67fbe-8a6f-4b18-861d-23928a83b12a",
   "metadata": {},
   "outputs": [],
   "source": []
  },
  {
   "cell_type": "code",
   "execution_count": null,
   "id": "ad328c57-c191-485f-830c-99fee000b587",
   "metadata": {},
   "outputs": [],
   "source": []
  },
  {
   "cell_type": "code",
   "execution_count": null,
   "id": "774da6c6-aace-47e0-acc8-bb7b522949ed",
   "metadata": {},
   "outputs": [],
   "source": [
    "# Find the most common payment_method per shopping_mall\n",
    "most_popular_payment = (\n",
    "    df.groupby('shopping_mall')['payment_method']\n",
    "    .agg(lambda x: x.value_counts().idxmax())\n",
    ")\n",
    "\n",
    "print(most_popular_payment)\n"
   ]
  },
  {
   "cell_type": "code",
   "execution_count": null,
   "id": "e3195a88-8171-4a6d-8e8c-f162aeaf1ac5",
   "metadata": {},
   "outputs": [],
   "source": []
  },
  {
   "cell_type": "code",
   "execution_count": null,
   "id": "097ff7d0-eb7d-4d5c-b521-c24015359b2b",
   "metadata": {},
   "outputs": [],
   "source": []
  },
  {
   "cell_type": "code",
   "execution_count": null,
   "id": "11af719a-ab58-4c20-ac04-3fdc8ee38390",
   "metadata": {},
   "outputs": [],
   "source": []
  },
  {
   "cell_type": "code",
   "execution_count": null,
   "id": "8a42f496-a5dc-4c74-9d6e-cfc1fe37fd72",
   "metadata": {},
   "outputs": [],
   "source": []
  },
  {
   "cell_type": "code",
   "execution_count": null,
   "id": "9c16d2b1-04a3-4e5e-bf06-cfa2c91f4687",
   "metadata": {},
   "outputs": [],
   "source": []
  },
  {
   "cell_type": "code",
   "execution_count": null,
   "id": "250a01ac-c0f9-451b-b980-5f838f99fc37",
   "metadata": {},
   "outputs": [],
   "source": []
  },
  {
   "cell_type": "code",
   "execution_count": null,
   "id": "881059e7-6442-4ed1-9321-a56203d7b683",
   "metadata": {},
   "outputs": [],
   "source": []
  },
  {
   "cell_type": "code",
   "execution_count": null,
   "id": "a1b4ab19-d2f5-46dc-b52f-d98a42b1a17a",
   "metadata": {},
   "outputs": [],
   "source": []
  },
  {
   "cell_type": "code",
   "execution_count": null,
   "id": "78e0500c-0b67-405b-bc29-59fecc27e612",
   "metadata": {},
   "outputs": [],
   "source": []
  },
  {
   "cell_type": "code",
   "execution_count": null,
   "id": "1a76236b-3d1b-464b-ada6-821694688b2e",
   "metadata": {},
   "outputs": [],
   "source": []
  },
  {
   "cell_type": "code",
   "execution_count": null,
   "id": "89ca4ce6-d31e-4daf-8dd4-3d643a176f0f",
   "metadata": {},
   "outputs": [],
   "source": []
  },
  {
   "cell_type": "code",
   "execution_count": null,
   "id": "b2873987-063f-4146-9b22-5e06bd9a45fb",
   "metadata": {},
   "outputs": [],
   "source": []
  },
  {
   "cell_type": "code",
   "execution_count": null,
   "id": "3eb4f600-d12e-4adb-b3c8-201619e73600",
   "metadata": {},
   "outputs": [],
   "source": []
  },
  {
   "cell_type": "code",
   "execution_count": null,
   "id": "fc16c0ba-df6a-4c0e-b4a9-6b2c501164a4",
   "metadata": {},
   "outputs": [],
   "source": []
  }
 ],
 "metadata": {
  "kernelspec": {
   "display_name": "Python 3 (ipykernel)",
   "language": "python",
   "name": "python3"
  },
  "language_info": {
   "codemirror_mode": {
    "name": "ipython",
    "version": 3
   },
   "file_extension": ".py",
   "mimetype": "text/x-python",
   "name": "python",
   "nbconvert_exporter": "python",
   "pygments_lexer": "ipython3",
   "version": "3.13.3"
  }
 },
 "nbformat": 4,
 "nbformat_minor": 5
}
