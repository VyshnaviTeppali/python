{
 "cells": [
  {
   "cell_type": "code",
   "execution_count": 166,
   "id": "1de6cb65-4ce8-4273-bd9b-0468364b672e",
   "metadata": {},
   "outputs": [],
   "source": [
    "import pandas as pd\n",
    "df=pd.read_csv(\"C:/Users/Dell/OneDrive/Documents/python projects vyshu/Project 1/application_train.csv\")\n"
   ]
  },
  {
   "cell_type": "code",
   "execution_count": null,
   "id": "2d703155-2bd7-40c0-8d85-73175d21fd79",
   "metadata": {},
   "outputs": [],
   "source": []
  },
  {
   "cell_type": "code",
   "execution_count": 167,
   "id": "9e0fd94c-6456-436b-aca6-23f071e99d65",
   "metadata": {},
   "outputs": [
    {
     "data": {
      "text/html": [
       "<div>\n",
       "<style scoped>\n",
       "    .dataframe tbody tr th:only-of-type {\n",
       "        vertical-align: middle;\n",
       "    }\n",
       "\n",
       "    .dataframe tbody tr th {\n",
       "        vertical-align: top;\n",
       "    }\n",
       "\n",
       "    .dataframe thead th {\n",
       "        text-align: right;\n",
       "    }\n",
       "</style>\n",
       "<table border=\"1\" class=\"dataframe\">\n",
       "  <thead>\n",
       "    <tr style=\"text-align: right;\">\n",
       "      <th></th>\n",
       "      <th>SK_ID_CURR</th>\n",
       "      <th>TARGET</th>\n",
       "      <th>NAME_CONTRACT_TYPE</th>\n",
       "      <th>CODE_GENDER</th>\n",
       "      <th>FLAG_OWN_CAR</th>\n",
       "      <th>FLAG_OWN_REALTY</th>\n",
       "      <th>CNT_CHILDREN</th>\n",
       "      <th>AMT_INCOME_TOTAL</th>\n",
       "      <th>AMT_CREDIT</th>\n",
       "      <th>AMT_ANNUITY</th>\n",
       "      <th>...</th>\n",
       "      <th>FLAG_DOCUMENT_18</th>\n",
       "      <th>FLAG_DOCUMENT_19</th>\n",
       "      <th>FLAG_DOCUMENT_20</th>\n",
       "      <th>FLAG_DOCUMENT_21</th>\n",
       "      <th>AMT_REQ_CREDIT_BUREAU_HOUR</th>\n",
       "      <th>AMT_REQ_CREDIT_BUREAU_DAY</th>\n",
       "      <th>AMT_REQ_CREDIT_BUREAU_WEEK</th>\n",
       "      <th>AMT_REQ_CREDIT_BUREAU_MON</th>\n",
       "      <th>AMT_REQ_CREDIT_BUREAU_QRT</th>\n",
       "      <th>AMT_REQ_CREDIT_BUREAU_YEAR</th>\n",
       "    </tr>\n",
       "  </thead>\n",
       "  <tbody>\n",
       "    <tr>\n",
       "      <th>0</th>\n",
       "      <td>100002</td>\n",
       "      <td>1</td>\n",
       "      <td>Cash loans</td>\n",
       "      <td>M</td>\n",
       "      <td>N</td>\n",
       "      <td>Y</td>\n",
       "      <td>0</td>\n",
       "      <td>202500.0</td>\n",
       "      <td>406597.5</td>\n",
       "      <td>24700.5</td>\n",
       "      <td>...</td>\n",
       "      <td>0</td>\n",
       "      <td>0</td>\n",
       "      <td>0</td>\n",
       "      <td>0</td>\n",
       "      <td>0.0</td>\n",
       "      <td>0.0</td>\n",
       "      <td>0.0</td>\n",
       "      <td>0.0</td>\n",
       "      <td>0.0</td>\n",
       "      <td>1.0</td>\n",
       "    </tr>\n",
       "    <tr>\n",
       "      <th>1</th>\n",
       "      <td>100003</td>\n",
       "      <td>0</td>\n",
       "      <td>Cash loans</td>\n",
       "      <td>F</td>\n",
       "      <td>N</td>\n",
       "      <td>N</td>\n",
       "      <td>0</td>\n",
       "      <td>270000.0</td>\n",
       "      <td>1293502.5</td>\n",
       "      <td>35698.5</td>\n",
       "      <td>...</td>\n",
       "      <td>0</td>\n",
       "      <td>0</td>\n",
       "      <td>0</td>\n",
       "      <td>0</td>\n",
       "      <td>0.0</td>\n",
       "      <td>0.0</td>\n",
       "      <td>0.0</td>\n",
       "      <td>0.0</td>\n",
       "      <td>0.0</td>\n",
       "      <td>0.0</td>\n",
       "    </tr>\n",
       "    <tr>\n",
       "      <th>2</th>\n",
       "      <td>100004</td>\n",
       "      <td>0</td>\n",
       "      <td>Revolving loans</td>\n",
       "      <td>M</td>\n",
       "      <td>Y</td>\n",
       "      <td>Y</td>\n",
       "      <td>0</td>\n",
       "      <td>67500.0</td>\n",
       "      <td>135000.0</td>\n",
       "      <td>6750.0</td>\n",
       "      <td>...</td>\n",
       "      <td>0</td>\n",
       "      <td>0</td>\n",
       "      <td>0</td>\n",
       "      <td>0</td>\n",
       "      <td>0.0</td>\n",
       "      <td>0.0</td>\n",
       "      <td>0.0</td>\n",
       "      <td>0.0</td>\n",
       "      <td>0.0</td>\n",
       "      <td>0.0</td>\n",
       "    </tr>\n",
       "    <tr>\n",
       "      <th>3</th>\n",
       "      <td>100006</td>\n",
       "      <td>0</td>\n",
       "      <td>Cash loans</td>\n",
       "      <td>F</td>\n",
       "      <td>N</td>\n",
       "      <td>Y</td>\n",
       "      <td>0</td>\n",
       "      <td>135000.0</td>\n",
       "      <td>312682.5</td>\n",
       "      <td>29686.5</td>\n",
       "      <td>...</td>\n",
       "      <td>0</td>\n",
       "      <td>0</td>\n",
       "      <td>0</td>\n",
       "      <td>0</td>\n",
       "      <td>NaN</td>\n",
       "      <td>NaN</td>\n",
       "      <td>NaN</td>\n",
       "      <td>NaN</td>\n",
       "      <td>NaN</td>\n",
       "      <td>NaN</td>\n",
       "    </tr>\n",
       "    <tr>\n",
       "      <th>4</th>\n",
       "      <td>100007</td>\n",
       "      <td>0</td>\n",
       "      <td>Cash loans</td>\n",
       "      <td>M</td>\n",
       "      <td>N</td>\n",
       "      <td>Y</td>\n",
       "      <td>0</td>\n",
       "      <td>121500.0</td>\n",
       "      <td>513000.0</td>\n",
       "      <td>21865.5</td>\n",
       "      <td>...</td>\n",
       "      <td>0</td>\n",
       "      <td>0</td>\n",
       "      <td>0</td>\n",
       "      <td>0</td>\n",
       "      <td>0.0</td>\n",
       "      <td>0.0</td>\n",
       "      <td>0.0</td>\n",
       "      <td>0.0</td>\n",
       "      <td>0.0</td>\n",
       "      <td>0.0</td>\n",
       "    </tr>\n",
       "  </tbody>\n",
       "</table>\n",
       "<p>5 rows × 122 columns</p>\n",
       "</div>"
      ],
      "text/plain": [
       "   SK_ID_CURR  TARGET NAME_CONTRACT_TYPE CODE_GENDER FLAG_OWN_CAR  \\\n",
       "0      100002       1         Cash loans           M            N   \n",
       "1      100003       0         Cash loans           F            N   \n",
       "2      100004       0    Revolving loans           M            Y   \n",
       "3      100006       0         Cash loans           F            N   \n",
       "4      100007       0         Cash loans           M            N   \n",
       "\n",
       "  FLAG_OWN_REALTY  CNT_CHILDREN  AMT_INCOME_TOTAL  AMT_CREDIT  AMT_ANNUITY  \\\n",
       "0               Y             0          202500.0    406597.5      24700.5   \n",
       "1               N             0          270000.0   1293502.5      35698.5   \n",
       "2               Y             0           67500.0    135000.0       6750.0   \n",
       "3               Y             0          135000.0    312682.5      29686.5   \n",
       "4               Y             0          121500.0    513000.0      21865.5   \n",
       "\n",
       "   ...  FLAG_DOCUMENT_18 FLAG_DOCUMENT_19 FLAG_DOCUMENT_20 FLAG_DOCUMENT_21  \\\n",
       "0  ...                 0                0                0                0   \n",
       "1  ...                 0                0                0                0   \n",
       "2  ...                 0                0                0                0   \n",
       "3  ...                 0                0                0                0   \n",
       "4  ...                 0                0                0                0   \n",
       "\n",
       "  AMT_REQ_CREDIT_BUREAU_HOUR AMT_REQ_CREDIT_BUREAU_DAY  \\\n",
       "0                        0.0                       0.0   \n",
       "1                        0.0                       0.0   \n",
       "2                        0.0                       0.0   \n",
       "3                        NaN                       NaN   \n",
       "4                        0.0                       0.0   \n",
       "\n",
       "   AMT_REQ_CREDIT_BUREAU_WEEK  AMT_REQ_CREDIT_BUREAU_MON  \\\n",
       "0                         0.0                        0.0   \n",
       "1                         0.0                        0.0   \n",
       "2                         0.0                        0.0   \n",
       "3                         NaN                        NaN   \n",
       "4                         0.0                        0.0   \n",
       "\n",
       "   AMT_REQ_CREDIT_BUREAU_QRT  AMT_REQ_CREDIT_BUREAU_YEAR  \n",
       "0                        0.0                         1.0  \n",
       "1                        0.0                         0.0  \n",
       "2                        0.0                         0.0  \n",
       "3                        NaN                         NaN  \n",
       "4                        0.0                         0.0  \n",
       "\n",
       "[5 rows x 122 columns]"
      ]
     },
     "execution_count": 167,
     "metadata": {},
     "output_type": "execute_result"
    }
   ],
   "source": [
    "#1. Load the dataset and display the first 5 rows.\n",
    "df.head(5)"
   ]
  },
  {
   "cell_type": "code",
   "execution_count": null,
   "id": "785ec87a-5e23-4d1f-b975-cc3ebc8dc707",
   "metadata": {},
   "outputs": [],
   "source": []
  },
  {
   "cell_type": "code",
   "execution_count": 168,
   "id": "547272a8-8419-4e6c-873e-d8a31e8a1154",
   "metadata": {},
   "outputs": [
    {
     "data": {
      "text/plain": [
       "(307511, 122)"
      ]
     },
     "execution_count": 168,
     "metadata": {},
     "output_type": "execute_result"
    }
   ],
   "source": [
    "#2. Check the shape \n",
    "df.shape"
   ]
  },
  {
   "cell_type": "code",
   "execution_count": null,
   "id": "42d5b011-112e-44fc-b158-e9211693c1f9",
   "metadata": {},
   "outputs": [],
   "source": []
  },
  {
   "cell_type": "code",
   "execution_count": 169,
   "id": "ed325724-6c41-444f-aba0-38ea34a65680",
   "metadata": {},
   "outputs": [
    {
     "data": {
      "text/plain": [
       "SK_ID_CURR                      int64\n",
       "TARGET                          int64\n",
       "NAME_CONTRACT_TYPE             object\n",
       "CODE_GENDER                    object\n",
       "FLAG_OWN_CAR                   object\n",
       "                               ...   \n",
       "AMT_REQ_CREDIT_BUREAU_DAY     float64\n",
       "AMT_REQ_CREDIT_BUREAU_WEEK    float64\n",
       "AMT_REQ_CREDIT_BUREAU_MON     float64\n",
       "AMT_REQ_CREDIT_BUREAU_QRT     float64\n",
       "AMT_REQ_CREDIT_BUREAU_YEAR    float64\n",
       "Length: 122, dtype: object"
      ]
     },
     "execution_count": 169,
     "metadata": {},
     "output_type": "execute_result"
    }
   ],
   "source": [
    "#and column types of the dataset.\n",
    "df.dtypes"
   ]
  },
  {
   "cell_type": "code",
   "execution_count": 170,
   "id": "877c0af8-d9a9-467c-9f0c-ea68c6b0de32",
   "metadata": {},
   "outputs": [],
   "source": [
    "#3. Get a summary of all numeric columns using `.describe()`.\n",
    "numeric_col=df.select_dtypes(include=\"number\")"
   ]
  },
  {
   "cell_type": "code",
   "execution_count": 171,
   "id": "7d40b628-2ee2-48aa-a4ac-28f5b24d8244",
   "metadata": {},
   "outputs": [
    {
     "data": {
      "text/html": [
       "<div>\n",
       "<style scoped>\n",
       "    .dataframe tbody tr th:only-of-type {\n",
       "        vertical-align: middle;\n",
       "    }\n",
       "\n",
       "    .dataframe tbody tr th {\n",
       "        vertical-align: top;\n",
       "    }\n",
       "\n",
       "    .dataframe thead th {\n",
       "        text-align: right;\n",
       "    }\n",
       "</style>\n",
       "<table border=\"1\" class=\"dataframe\">\n",
       "  <thead>\n",
       "    <tr style=\"text-align: right;\">\n",
       "      <th></th>\n",
       "      <th>SK_ID_CURR</th>\n",
       "      <th>TARGET</th>\n",
       "      <th>CNT_CHILDREN</th>\n",
       "      <th>AMT_INCOME_TOTAL</th>\n",
       "      <th>AMT_CREDIT</th>\n",
       "      <th>AMT_ANNUITY</th>\n",
       "      <th>AMT_GOODS_PRICE</th>\n",
       "      <th>REGION_POPULATION_RELATIVE</th>\n",
       "      <th>DAYS_BIRTH</th>\n",
       "      <th>DAYS_EMPLOYED</th>\n",
       "      <th>...</th>\n",
       "      <th>FLAG_DOCUMENT_18</th>\n",
       "      <th>FLAG_DOCUMENT_19</th>\n",
       "      <th>FLAG_DOCUMENT_20</th>\n",
       "      <th>FLAG_DOCUMENT_21</th>\n",
       "      <th>AMT_REQ_CREDIT_BUREAU_HOUR</th>\n",
       "      <th>AMT_REQ_CREDIT_BUREAU_DAY</th>\n",
       "      <th>AMT_REQ_CREDIT_BUREAU_WEEK</th>\n",
       "      <th>AMT_REQ_CREDIT_BUREAU_MON</th>\n",
       "      <th>AMT_REQ_CREDIT_BUREAU_QRT</th>\n",
       "      <th>AMT_REQ_CREDIT_BUREAU_YEAR</th>\n",
       "    </tr>\n",
       "  </thead>\n",
       "  <tbody>\n",
       "    <tr>\n",
       "      <th>count</th>\n",
       "      <td>307511.000000</td>\n",
       "      <td>307511.000000</td>\n",
       "      <td>307511.000000</td>\n",
       "      <td>3.075110e+05</td>\n",
       "      <td>3.075110e+05</td>\n",
       "      <td>307499.000000</td>\n",
       "      <td>3.072330e+05</td>\n",
       "      <td>307511.000000</td>\n",
       "      <td>307511.000000</td>\n",
       "      <td>307511.000000</td>\n",
       "      <td>...</td>\n",
       "      <td>307511.000000</td>\n",
       "      <td>307511.000000</td>\n",
       "      <td>307511.000000</td>\n",
       "      <td>307511.000000</td>\n",
       "      <td>265992.000000</td>\n",
       "      <td>265992.000000</td>\n",
       "      <td>265992.000000</td>\n",
       "      <td>265992.000000</td>\n",
       "      <td>265992.000000</td>\n",
       "      <td>265992.000000</td>\n",
       "    </tr>\n",
       "    <tr>\n",
       "      <th>mean</th>\n",
       "      <td>278180.518577</td>\n",
       "      <td>0.080729</td>\n",
       "      <td>0.417052</td>\n",
       "      <td>1.687979e+05</td>\n",
       "      <td>5.990260e+05</td>\n",
       "      <td>27108.573909</td>\n",
       "      <td>5.383962e+05</td>\n",
       "      <td>0.020868</td>\n",
       "      <td>-16036.995067</td>\n",
       "      <td>63815.045904</td>\n",
       "      <td>...</td>\n",
       "      <td>0.008130</td>\n",
       "      <td>0.000595</td>\n",
       "      <td>0.000507</td>\n",
       "      <td>0.000335</td>\n",
       "      <td>0.006402</td>\n",
       "      <td>0.007000</td>\n",
       "      <td>0.034362</td>\n",
       "      <td>0.267395</td>\n",
       "      <td>0.265474</td>\n",
       "      <td>1.899974</td>\n",
       "    </tr>\n",
       "    <tr>\n",
       "      <th>std</th>\n",
       "      <td>102790.175348</td>\n",
       "      <td>0.272419</td>\n",
       "      <td>0.722121</td>\n",
       "      <td>2.371231e+05</td>\n",
       "      <td>4.024908e+05</td>\n",
       "      <td>14493.737315</td>\n",
       "      <td>3.694465e+05</td>\n",
       "      <td>0.013831</td>\n",
       "      <td>4363.988632</td>\n",
       "      <td>141275.766519</td>\n",
       "      <td>...</td>\n",
       "      <td>0.089798</td>\n",
       "      <td>0.024387</td>\n",
       "      <td>0.022518</td>\n",
       "      <td>0.018299</td>\n",
       "      <td>0.083849</td>\n",
       "      <td>0.110757</td>\n",
       "      <td>0.204685</td>\n",
       "      <td>0.916002</td>\n",
       "      <td>0.794056</td>\n",
       "      <td>1.869295</td>\n",
       "    </tr>\n",
       "    <tr>\n",
       "      <th>min</th>\n",
       "      <td>100002.000000</td>\n",
       "      <td>0.000000</td>\n",
       "      <td>0.000000</td>\n",
       "      <td>2.565000e+04</td>\n",
       "      <td>4.500000e+04</td>\n",
       "      <td>1615.500000</td>\n",
       "      <td>4.050000e+04</td>\n",
       "      <td>0.000290</td>\n",
       "      <td>-25229.000000</td>\n",
       "      <td>-17912.000000</td>\n",
       "      <td>...</td>\n",
       "      <td>0.000000</td>\n",
       "      <td>0.000000</td>\n",
       "      <td>0.000000</td>\n",
       "      <td>0.000000</td>\n",
       "      <td>0.000000</td>\n",
       "      <td>0.000000</td>\n",
       "      <td>0.000000</td>\n",
       "      <td>0.000000</td>\n",
       "      <td>0.000000</td>\n",
       "      <td>0.000000</td>\n",
       "    </tr>\n",
       "    <tr>\n",
       "      <th>25%</th>\n",
       "      <td>189145.500000</td>\n",
       "      <td>0.000000</td>\n",
       "      <td>0.000000</td>\n",
       "      <td>1.125000e+05</td>\n",
       "      <td>2.700000e+05</td>\n",
       "      <td>16524.000000</td>\n",
       "      <td>2.385000e+05</td>\n",
       "      <td>0.010006</td>\n",
       "      <td>-19682.000000</td>\n",
       "      <td>-2760.000000</td>\n",
       "      <td>...</td>\n",
       "      <td>0.000000</td>\n",
       "      <td>0.000000</td>\n",
       "      <td>0.000000</td>\n",
       "      <td>0.000000</td>\n",
       "      <td>0.000000</td>\n",
       "      <td>0.000000</td>\n",
       "      <td>0.000000</td>\n",
       "      <td>0.000000</td>\n",
       "      <td>0.000000</td>\n",
       "      <td>0.000000</td>\n",
       "    </tr>\n",
       "    <tr>\n",
       "      <th>50%</th>\n",
       "      <td>278202.000000</td>\n",
       "      <td>0.000000</td>\n",
       "      <td>0.000000</td>\n",
       "      <td>1.471500e+05</td>\n",
       "      <td>5.135310e+05</td>\n",
       "      <td>24903.000000</td>\n",
       "      <td>4.500000e+05</td>\n",
       "      <td>0.018850</td>\n",
       "      <td>-15750.000000</td>\n",
       "      <td>-1213.000000</td>\n",
       "      <td>...</td>\n",
       "      <td>0.000000</td>\n",
       "      <td>0.000000</td>\n",
       "      <td>0.000000</td>\n",
       "      <td>0.000000</td>\n",
       "      <td>0.000000</td>\n",
       "      <td>0.000000</td>\n",
       "      <td>0.000000</td>\n",
       "      <td>0.000000</td>\n",
       "      <td>0.000000</td>\n",
       "      <td>1.000000</td>\n",
       "    </tr>\n",
       "    <tr>\n",
       "      <th>75%</th>\n",
       "      <td>367142.500000</td>\n",
       "      <td>0.000000</td>\n",
       "      <td>1.000000</td>\n",
       "      <td>2.025000e+05</td>\n",
       "      <td>8.086500e+05</td>\n",
       "      <td>34596.000000</td>\n",
       "      <td>6.795000e+05</td>\n",
       "      <td>0.028663</td>\n",
       "      <td>-12413.000000</td>\n",
       "      <td>-289.000000</td>\n",
       "      <td>...</td>\n",
       "      <td>0.000000</td>\n",
       "      <td>0.000000</td>\n",
       "      <td>0.000000</td>\n",
       "      <td>0.000000</td>\n",
       "      <td>0.000000</td>\n",
       "      <td>0.000000</td>\n",
       "      <td>0.000000</td>\n",
       "      <td>0.000000</td>\n",
       "      <td>0.000000</td>\n",
       "      <td>3.000000</td>\n",
       "    </tr>\n",
       "    <tr>\n",
       "      <th>max</th>\n",
       "      <td>456255.000000</td>\n",
       "      <td>1.000000</td>\n",
       "      <td>19.000000</td>\n",
       "      <td>1.170000e+08</td>\n",
       "      <td>4.050000e+06</td>\n",
       "      <td>258025.500000</td>\n",
       "      <td>4.050000e+06</td>\n",
       "      <td>0.072508</td>\n",
       "      <td>-7489.000000</td>\n",
       "      <td>365243.000000</td>\n",
       "      <td>...</td>\n",
       "      <td>1.000000</td>\n",
       "      <td>1.000000</td>\n",
       "      <td>1.000000</td>\n",
       "      <td>1.000000</td>\n",
       "      <td>4.000000</td>\n",
       "      <td>9.000000</td>\n",
       "      <td>8.000000</td>\n",
       "      <td>27.000000</td>\n",
       "      <td>261.000000</td>\n",
       "      <td>25.000000</td>\n",
       "    </tr>\n",
       "  </tbody>\n",
       "</table>\n",
       "<p>8 rows × 106 columns</p>\n",
       "</div>"
      ],
      "text/plain": [
       "          SK_ID_CURR         TARGET   CNT_CHILDREN  AMT_INCOME_TOTAL  \\\n",
       "count  307511.000000  307511.000000  307511.000000      3.075110e+05   \n",
       "mean   278180.518577       0.080729       0.417052      1.687979e+05   \n",
       "std    102790.175348       0.272419       0.722121      2.371231e+05   \n",
       "min    100002.000000       0.000000       0.000000      2.565000e+04   \n",
       "25%    189145.500000       0.000000       0.000000      1.125000e+05   \n",
       "50%    278202.000000       0.000000       0.000000      1.471500e+05   \n",
       "75%    367142.500000       0.000000       1.000000      2.025000e+05   \n",
       "max    456255.000000       1.000000      19.000000      1.170000e+08   \n",
       "\n",
       "         AMT_CREDIT    AMT_ANNUITY  AMT_GOODS_PRICE  \\\n",
       "count  3.075110e+05  307499.000000     3.072330e+05   \n",
       "mean   5.990260e+05   27108.573909     5.383962e+05   \n",
       "std    4.024908e+05   14493.737315     3.694465e+05   \n",
       "min    4.500000e+04    1615.500000     4.050000e+04   \n",
       "25%    2.700000e+05   16524.000000     2.385000e+05   \n",
       "50%    5.135310e+05   24903.000000     4.500000e+05   \n",
       "75%    8.086500e+05   34596.000000     6.795000e+05   \n",
       "max    4.050000e+06  258025.500000     4.050000e+06   \n",
       "\n",
       "       REGION_POPULATION_RELATIVE     DAYS_BIRTH  DAYS_EMPLOYED  ...  \\\n",
       "count               307511.000000  307511.000000  307511.000000  ...   \n",
       "mean                     0.020868  -16036.995067   63815.045904  ...   \n",
       "std                      0.013831    4363.988632  141275.766519  ...   \n",
       "min                      0.000290  -25229.000000  -17912.000000  ...   \n",
       "25%                      0.010006  -19682.000000   -2760.000000  ...   \n",
       "50%                      0.018850  -15750.000000   -1213.000000  ...   \n",
       "75%                      0.028663  -12413.000000    -289.000000  ...   \n",
       "max                      0.072508   -7489.000000  365243.000000  ...   \n",
       "\n",
       "       FLAG_DOCUMENT_18  FLAG_DOCUMENT_19  FLAG_DOCUMENT_20  FLAG_DOCUMENT_21  \\\n",
       "count     307511.000000     307511.000000     307511.000000     307511.000000   \n",
       "mean           0.008130          0.000595          0.000507          0.000335   \n",
       "std            0.089798          0.024387          0.022518          0.018299   \n",
       "min            0.000000          0.000000          0.000000          0.000000   \n",
       "25%            0.000000          0.000000          0.000000          0.000000   \n",
       "50%            0.000000          0.000000          0.000000          0.000000   \n",
       "75%            0.000000          0.000000          0.000000          0.000000   \n",
       "max            1.000000          1.000000          1.000000          1.000000   \n",
       "\n",
       "       AMT_REQ_CREDIT_BUREAU_HOUR  AMT_REQ_CREDIT_BUREAU_DAY  \\\n",
       "count               265992.000000              265992.000000   \n",
       "mean                     0.006402                   0.007000   \n",
       "std                      0.083849                   0.110757   \n",
       "min                      0.000000                   0.000000   \n",
       "25%                      0.000000                   0.000000   \n",
       "50%                      0.000000                   0.000000   \n",
       "75%                      0.000000                   0.000000   \n",
       "max                      4.000000                   9.000000   \n",
       "\n",
       "       AMT_REQ_CREDIT_BUREAU_WEEK  AMT_REQ_CREDIT_BUREAU_MON  \\\n",
       "count               265992.000000              265992.000000   \n",
       "mean                     0.034362                   0.267395   \n",
       "std                      0.204685                   0.916002   \n",
       "min                      0.000000                   0.000000   \n",
       "25%                      0.000000                   0.000000   \n",
       "50%                      0.000000                   0.000000   \n",
       "75%                      0.000000                   0.000000   \n",
       "max                      8.000000                  27.000000   \n",
       "\n",
       "       AMT_REQ_CREDIT_BUREAU_QRT  AMT_REQ_CREDIT_BUREAU_YEAR  \n",
       "count              265992.000000               265992.000000  \n",
       "mean                    0.265474                    1.899974  \n",
       "std                     0.794056                    1.869295  \n",
       "min                     0.000000                    0.000000  \n",
       "25%                     0.000000                    0.000000  \n",
       "50%                     0.000000                    1.000000  \n",
       "75%                     0.000000                    3.000000  \n",
       "max                   261.000000                   25.000000  \n",
       "\n",
       "[8 rows x 106 columns]"
      ]
     },
     "execution_count": 171,
     "metadata": {},
     "output_type": "execute_result"
    }
   ],
   "source": [
    "numeric_col.describe()"
   ]
  },
  {
   "cell_type": "code",
   "execution_count": 83,
   "id": "978f21f2-a8f5-4b06-86ac-a93185fae7fa",
   "metadata": {},
   "outputs": [
    {
     "name": "stdout",
     "output_type": "stream",
     "text": [
      "SK_ID_CURR                        0\n",
      "TARGET                            0\n",
      "NAME_CONTRACT_TYPE                0\n",
      "CODE_GENDER                       0\n",
      "FLAG_OWN_CAR                      0\n",
      "                              ...  \n",
      "AMT_REQ_CREDIT_BUREAU_DAY     41519\n",
      "AMT_REQ_CREDIT_BUREAU_WEEK    41519\n",
      "AMT_REQ_CREDIT_BUREAU_MON     41519\n",
      "AMT_REQ_CREDIT_BUREAU_QRT     41519\n",
      "AMT_REQ_CREDIT_BUREAU_YEAR    41519\n",
      "Length: 122, dtype: int64\n"
     ]
    }
   ],
   "source": [
    "#4. Count total missing values column-wise.\n",
    "missing_val=df.isna().sum()\n",
    "print(missing_val)"
   ]
  },
  {
   "cell_type": "code",
   "execution_count": 173,
   "id": "43b903bf-5f86-46b5-b557-0dc8dc22aa7f",
   "metadata": {},
   "outputs": [
    {
     "data": {
      "text/plain": [
       "array(['Cash loans', 'Revolving loans'], dtype=object)"
      ]
     },
     "execution_count": 173,
     "metadata": {},
     "output_type": "execute_result"
    }
   ],
   "source": [
    "#5. Display unique values in `NAME_CONTRACT_TYPE`.\n",
    "\n",
    "df['NAME_CONTRACT_TYPE'].unique()"
   ]
  },
  {
   "cell_type": "code",
   "execution_count": null,
   "id": "0b2e07cc-2c69-426f-ae01-01a4a5e0b399",
   "metadata": {},
   "outputs": [],
   "source": []
  },
  {
   "cell_type": "code",
   "execution_count": null,
   "id": "eff0b4e4-1014-4783-b753-74282197aab3",
   "metadata": {},
   "outputs": [],
   "source": []
  },
  {
   "cell_type": "code",
   "execution_count": null,
   "id": "df5e8117-0e58-4235-aa4c-46852028494c",
   "metadata": {},
   "outputs": [],
   "source": []
  },
  {
   "cell_type": "code",
   "execution_count": null,
   "id": "ae58bccb-69b0-4fff-8fac-7410ca59558f",
   "metadata": {},
   "outputs": [],
   "source": []
  },
  {
   "cell_type": "code",
   "execution_count": null,
   "id": "b062b3b2-9e31-4eb3-bbdc-c8ed0f0b491e",
   "metadata": {},
   "outputs": [],
   "source": []
  },
  {
   "cell_type": "markdown",
   "id": "13d24ef8-8306-4209-a933-936a58fe6e35",
   "metadata": {},
   "source": [
    "#### DATA CLEANING"
   ]
  },
  {
   "cell_type": "code",
   "execution_count": 176,
   "id": "54084050-9711-45cb-bc78-18cb59b58274",
   "metadata": {},
   "outputs": [
    {
     "name": "stdout",
     "output_type": "stream",
     "text": [
      "        SK_ID_CURR  TARGET NAME_CONTRACT_TYPE CODE_GENDER FLAG_OWN_CAR  \\\n",
      "0           100002       1         Cash loans           M            N   \n",
      "1           100003       0         Cash loans           F            N   \n",
      "2           100004       0    Revolving loans           M            Y   \n",
      "3           100006       0         Cash loans           F            N   \n",
      "4           100007       0         Cash loans           M            N   \n",
      "...            ...     ...                ...         ...          ...   \n",
      "307506      456251       0         Cash loans           M            N   \n",
      "307507      456252       0         Cash loans           F            N   \n",
      "307508      456253       0         Cash loans           F            N   \n",
      "307509      456254       1         Cash loans           F            N   \n",
      "307510      456255       0         Cash loans           F            N   \n",
      "\n",
      "       FLAG_OWN_REALTY  CNT_CHILDREN  AMT_INCOME_TOTAL  AMT_CREDIT  \\\n",
      "0                    Y             0          202500.0    406597.5   \n",
      "1                    N             0          270000.0   1293502.5   \n",
      "2                    Y             0           67500.0    135000.0   \n",
      "3                    Y             0          135000.0    312682.5   \n",
      "4                    Y             0          121500.0    513000.0   \n",
      "...                ...           ...               ...         ...   \n",
      "307506               N             0          157500.0    254700.0   \n",
      "307507               Y             0           72000.0    269550.0   \n",
      "307508               Y             0          153000.0    677664.0   \n",
      "307509               Y             0          171000.0    370107.0   \n",
      "307510               N             0          157500.0    675000.0   \n",
      "\n",
      "        AMT_ANNUITY  ...  FLAG_DOCUMENT_18 FLAG_DOCUMENT_19 FLAG_DOCUMENT_20  \\\n",
      "0           24700.5  ...                 0                0                0   \n",
      "1           35698.5  ...                 0                0                0   \n",
      "2            6750.0  ...                 0                0                0   \n",
      "3           29686.5  ...                 0                0                0   \n",
      "4           21865.5  ...                 0                0                0   \n",
      "...             ...  ...               ...              ...              ...   \n",
      "307506      27558.0  ...                 0                0                0   \n",
      "307507      12001.5  ...                 0                0                0   \n",
      "307508      29979.0  ...                 0                0                0   \n",
      "307509      20205.0  ...                 0                0                0   \n",
      "307510      49117.5  ...                 0                0                0   \n",
      "\n",
      "       FLAG_DOCUMENT_21 AMT_REQ_CREDIT_BUREAU_HOUR AMT_REQ_CREDIT_BUREAU_DAY  \\\n",
      "0                     0                        0.0                       0.0   \n",
      "1                     0                        0.0                       0.0   \n",
      "2                     0                        0.0                       0.0   \n",
      "3                     0                        NaN                       NaN   \n",
      "4                     0                        0.0                       0.0   \n",
      "...                 ...                        ...                       ...   \n",
      "307506                0                        NaN                       NaN   \n",
      "307507                0                        NaN                       NaN   \n",
      "307508                0                        1.0                       0.0   \n",
      "307509                0                        0.0                       0.0   \n",
      "307510                0                        0.0                       0.0   \n",
      "\n",
      "        AMT_REQ_CREDIT_BUREAU_WEEK  AMT_REQ_CREDIT_BUREAU_MON  \\\n",
      "0                              0.0                        0.0   \n",
      "1                              0.0                        0.0   \n",
      "2                              0.0                        0.0   \n",
      "3                              NaN                        NaN   \n",
      "4                              0.0                        0.0   \n",
      "...                            ...                        ...   \n",
      "307506                         NaN                        NaN   \n",
      "307507                         NaN                        NaN   \n",
      "307508                         0.0                        1.0   \n",
      "307509                         0.0                        0.0   \n",
      "307510                         0.0                        2.0   \n",
      "\n",
      "        AMT_REQ_CREDIT_BUREAU_QRT  AMT_REQ_CREDIT_BUREAU_YEAR  \n",
      "0                             0.0                         1.0  \n",
      "1                             0.0                         0.0  \n",
      "2                             0.0                         0.0  \n",
      "3                             NaN                         NaN  \n",
      "4                             0.0                         0.0  \n",
      "...                           ...                         ...  \n",
      "307506                        NaN                         NaN  \n",
      "307507                        NaN                         NaN  \n",
      "307508                        0.0                         1.0  \n",
      "307509                        0.0                         0.0  \n",
      "307510                        0.0                         1.0  \n",
      "\n",
      "[307511 rows x 122 columns]\n"
     ]
    }
   ],
   "source": [
    "#6. Replace all empty strings or spaces with `NaN`.\n",
    "import numpy as np\n",
    "df=df.replace(r'^\\s*$',np.nan,regex=True)\n",
    "print(df)\n"
   ]
  },
  {
   "cell_type": "code",
   "execution_count": 87,
   "id": "b83bd1e9-3cb8-482e-8116-35780bf0fc34",
   "metadata": {},
   "outputs": [
    {
     "data": {
      "text/plain": [
       "0            Laborers\n",
       "1          Core staff\n",
       "2            Laborers\n",
       "3            Laborers\n",
       "4          Core staff\n",
       "             ...     \n",
       "307506    Sales staff\n",
       "307507            NaN\n",
       "307508       Managers\n",
       "307509       Laborers\n",
       "307510       Laborers\n",
       "Name: OCCUPATION_TYPE, Length: 307511, dtype: object"
      ]
     },
     "execution_count": 87,
     "metadata": {},
     "output_type": "execute_result"
    }
   ],
   "source": [
    "df['OCCUPATION_TYPE']"
   ]
  },
  {
   "cell_type": "code",
   "execution_count": null,
   "id": "f75b75a1-5aba-4da0-a90d-c0a5a6e8d539",
   "metadata": {},
   "outputs": [],
   "source": []
  },
  {
   "cell_type": "code",
   "execution_count": 88,
   "id": "4798c515-142d-4aa6-b9a0-b43143367630",
   "metadata": {},
   "outputs": [
    {
     "data": {
      "text/plain": [
       "np.float64(24903.0)"
      ]
     },
     "execution_count": 88,
     "metadata": {},
     "output_type": "execute_result"
    }
   ],
   "source": [
    "df['AMT_ANNUITY'].median()"
   ]
  },
  {
   "cell_type": "code",
   "execution_count": null,
   "id": "f60f08f2-4642-4a83-944e-071cd7d76308",
   "metadata": {},
   "outputs": [],
   "source": []
  },
  {
   "cell_type": "code",
   "execution_count": 177,
   "id": "8dd3106b-ddb8-4d57-bac6-174fd1827a2e",
   "metadata": {},
   "outputs": [
    {
     "data": {
      "text/plain": [
       "0         24700.5\n",
       "1         35698.5\n",
       "2          6750.0\n",
       "3         29686.5\n",
       "4         21865.5\n",
       "           ...   \n",
       "307506    27558.0\n",
       "307507    12001.5\n",
       "307508    29979.0\n",
       "307509    20205.0\n",
       "307510    49117.5\n",
       "Name: AMT_ANNUITY, Length: 307511, dtype: float64"
      ]
     },
     "execution_count": 177,
     "metadata": {},
     "output_type": "execute_result"
    }
   ],
   "source": [
    "#7. Fill missing values in `AMT_ANNUITY` with the median.\n",
    "\n",
    "df['AMT_ANNUITY'].fillna(df['AMT_ANNUITY'].median())"
   ]
  },
  {
   "cell_type": "code",
   "execution_count": null,
   "id": "3a905bcf-9225-42e8-8ccf-71b41d2cbf31",
   "metadata": {},
   "outputs": [],
   "source": []
  },
  {
   "cell_type": "code",
   "execution_count": 178,
   "id": "101d5244-5113-4774-807f-323074499a19",
   "metadata": {},
   "outputs": [
    {
     "data": {
      "text/plain": [
       "0         M\n",
       "1         F\n",
       "2         M\n",
       "3         F\n",
       "4         M\n",
       "         ..\n",
       "307506    M\n",
       "307507    F\n",
       "307508    F\n",
       "307509    F\n",
       "307510    F\n",
       "Name: CODE_GENDER, Length: 307511, dtype: object"
      ]
     },
     "execution_count": 178,
     "metadata": {},
     "output_type": "execute_result"
    }
   ],
   "source": [
    "#8. Drop rows where `CODE_GENDER` is null.\n",
    "df['CODE_GENDER'].dropna()"
   ]
  },
  {
   "cell_type": "code",
   "execution_count": 179,
   "id": "fa17fec1-7a73-45dc-9713-7e8b97836c34",
   "metadata": {},
   "outputs": [
    {
     "data": {
      "text/plain": [
       "0         False\n",
       "1         False\n",
       "2         False\n",
       "3         False\n",
       "4         False\n",
       "          ...  \n",
       "307506    False\n",
       "307507    False\n",
       "307508    False\n",
       "307509    False\n",
       "307510    False\n",
       "Name: CODE_GENDER, Length: 307511, dtype: bool"
      ]
     },
     "execution_count": 179,
     "metadata": {},
     "output_type": "execute_result"
    }
   ],
   "source": [
    "df['CODE_GENDER'].isna()"
   ]
  },
  {
   "cell_type": "code",
   "execution_count": null,
   "id": "d4b729c4-02c4-45bf-b932-ba01454b400a",
   "metadata": {},
   "outputs": [],
   "source": []
  },
  {
   "cell_type": "code",
   "execution_count": 180,
   "id": "19738e2a-f5bf-4fd1-b03b-dc7ddd3943a4",
   "metadata": {},
   "outputs": [],
   "source": [
    "\n",
    "#9. Replace 'XNA' in `CODE_GENDER` with the mode.\n",
    "mode=df['CODE_GENDER'].mode()[0]\n",
    "df['CODE_GENDER']=df['CODE_GENDER'].replace('XNA',mode)"
   ]
  },
  {
   "cell_type": "code",
   "execution_count": 181,
   "id": "ec14e2c0-238b-46b2-ade6-23617580bad9",
   "metadata": {},
   "outputs": [
    {
     "data": {
      "text/plain": [
       "np.int64(0)"
      ]
     },
     "execution_count": 181,
     "metadata": {},
     "output_type": "execute_result"
    }
   ],
   "source": [
    "(df['CODE_GENDER']=='XNA').sum()"
   ]
  },
  {
   "cell_type": "code",
   "execution_count": 182,
   "id": "8ba68b74-9023-44ff-bd05-61b621d25e24",
   "metadata": {},
   "outputs": [
    {
     "data": {
      "text/plain": [
       "(307511, 122)"
      ]
     },
     "execution_count": 182,
     "metadata": {},
     "output_type": "execute_result"
    }
   ],
   "source": [
    "df.shape"
   ]
  },
  {
   "cell_type": "code",
   "execution_count": null,
   "id": "fda22c97-7dc9-40c2-894f-cfe2dab61f0e",
   "metadata": {},
   "outputs": [],
   "source": []
  },
  {
   "cell_type": "code",
   "execution_count": null,
   "id": "c6bcaf27-fd21-4e32-9054-8b637cfc0a5f",
   "metadata": {},
   "outputs": [],
   "source": []
  },
  {
   "cell_type": "code",
   "execution_count": null,
   "id": "1919b561-fe97-42f3-9aaa-c7676589841e",
   "metadata": {},
   "outputs": [],
   "source": []
  },
  {
   "cell_type": "code",
   "execution_count": 92,
   "id": "79453784-9931-4e26-bd83-92f0acfe0796",
   "metadata": {},
   "outputs": [],
   "source": [
    "#10. Remove duplicate rows if any."
   ]
  },
  {
   "cell_type": "code",
   "execution_count": 183,
   "id": "1fb06342-d5d7-465a-8610-91129e92c631",
   "metadata": {},
   "outputs": [],
   "source": [
    "duplicate_rows=df.dropna().any()"
   ]
  },
  {
   "cell_type": "code",
   "execution_count": 95,
   "id": "4ede9f92-4919-494b-98b6-bb2c462f3be4",
   "metadata": {},
   "outputs": [
    {
     "name": "stdout",
     "output_type": "stream",
     "text": [
      "SK_ID_CURR                    True\n",
      "TARGET                        True\n",
      "NAME_CONTRACT_TYPE            True\n",
      "CODE_GENDER                   True\n",
      "FLAG_OWN_CAR                  True\n",
      "                              ... \n",
      "AMT_REQ_CREDIT_BUREAU_DAY     True\n",
      "AMT_REQ_CREDIT_BUREAU_WEEK    True\n",
      "AMT_REQ_CREDIT_BUREAU_MON     True\n",
      "AMT_REQ_CREDIT_BUREAU_QRT     True\n",
      "AMT_REQ_CREDIT_BUREAU_YEAR    True\n",
      "Length: 122, dtype: bool\n"
     ]
    }
   ],
   "source": [
    "print(duplicate_rows)"
   ]
  },
  {
   "cell_type": "code",
   "execution_count": null,
   "id": "b425ca68-b668-4afe-9762-4a91c3e4055a",
   "metadata": {},
   "outputs": [],
   "source": []
  },
  {
   "cell_type": "code",
   "execution_count": 184,
   "id": "9288d38f-bb56-423a-89ac-c74894c0da98",
   "metadata": {},
   "outputs": [],
   "source": [
    "#11. Count how many people have `NAME_CONTRACT_TYPE = Cash loans`.\n",
    "count_cashloans=(df['NAME_CONTRACT_TYPE']==\"Cash loans\").sum()"
   ]
  },
  {
   "cell_type": "code",
   "execution_count": 185,
   "id": "bbfe2b6f-45db-4e24-a7aa-a872daaa9475",
   "metadata": {},
   "outputs": [
    {
     "name": "stdout",
     "output_type": "stream",
     "text": [
      "278232\n"
     ]
    }
   ],
   "source": [
    "print(count_cashloans)"
   ]
  },
  {
   "cell_type": "code",
   "execution_count": null,
   "id": "7c08f119-da76-4395-8c93-aff5cd3b1433",
   "metadata": {},
   "outputs": [],
   "source": []
  },
  {
   "cell_type": "code",
   "execution_count": 186,
   "id": "83cd0745-2095-44dd-a2ec-480e3dc3f3f3",
   "metadata": {},
   "outputs": [
    {
     "name": "stdout",
     "output_type": "stream",
     "text": [
      "CODE_GENDER\n",
      "F    202452\n",
      "M    105059\n",
      "Name: count, dtype: int64\n"
     ]
    }
   ],
   "source": [
    "#12. How many applicants are male vs female?\n",
    "gender_count=df['CODE_GENDER'].value_counts()\n",
    "print(gender_count)"
   ]
  },
  {
   "cell_type": "code",
   "execution_count": null,
   "id": "7bb1d12f-b050-4be9-b4ad-9f36a11bd699",
   "metadata": {},
   "outputs": [],
   "source": []
  },
  {
   "cell_type": "code",
   "execution_count": 187,
   "id": "88630706-2c61-473a-82b9-2e7b0565cbd8",
   "metadata": {},
   "outputs": [
    {
     "name": "stdout",
     "output_type": "stream",
     "text": [
      "NAME_CONTRACT_TYPE\n",
      "Cash loans         627965.732538\n",
      "Revolving loans    324017.982172\n",
      "Name: AMT_CREDIT, dtype: float64\n"
     ]
    }
   ],
   "source": [
    "#13. What is the average `AMT_CREDIT` by `NAME_CONTRACT_TYPE`?\n",
    "\n",
    "average=df.groupby('NAME_CONTRACT_TYPE')['AMT_CREDIT'].mean()\n",
    "print(average)\n"
   ]
  },
  {
   "cell_type": "code",
   "execution_count": null,
   "id": "92139ce2-9e49-488c-9d6a-1a6ee8a007a3",
   "metadata": {},
   "outputs": [],
   "source": []
  },
  {
   "cell_type": "code",
   "execution_count": 188,
   "id": "9a86274a-e6e7-4d80-9a2b-98fc3643e101",
   "metadata": {},
   "outputs": [
    {
     "name": "stdout",
     "output_type": "stream",
     "text": [
      "NAME_INCOME_TYPE\n",
      "Businessman             652500.000000\n",
      "Commercial associate    202955.327289\n",
      "Maternity leave         140400.000000\n",
      "Pensioner               136401.292273\n",
      "State servant           179737.969506\n",
      "Student                 170500.000000\n",
      "Unemployed              110536.363636\n",
      "Working                 163169.889223\n",
      "Name: AMT_INCOME_TOTAL, dtype: float64\n"
     ]
    }
   ],
   "source": [
    "#14. Group by `NAME_INCOME_TYPE` and find the mean `AMT_INCOME_TOTAL`.\n",
    "\n",
    "mean=df.groupby('NAME_INCOME_TYPE')['AMT_INCOME_TOTAL'].mean()\n",
    "print(mean)"
   ]
  },
  {
   "cell_type": "code",
   "execution_count": null,
   "id": "ec794955-bd1c-467c-ba72-5223cda2bea5",
   "metadata": {},
   "outputs": [],
   "source": []
  },
  {
   "cell_type": "code",
   "execution_count": 189,
   "id": "7f623feb-7eec-4bff-9c82-6231ef5fdf0b",
   "metadata": {},
   "outputs": [],
   "source": [
    "#15. Sort top 10 applicants with highest `AMT_INCOME_TOTAL`.\n",
    "\n",
    "sorted_df=df.sort_values(by='AMT_INCOME_TOTAL',ascending=False).head(10)"
   ]
  },
  {
   "cell_type": "code",
   "execution_count": 121,
   "id": "a98c3442-3ac5-4759-9a2e-e7657920cc1a",
   "metadata": {},
   "outputs": [
    {
     "data": {
      "text/html": [
       "<div>\n",
       "<style scoped>\n",
       "    .dataframe tbody tr th:only-of-type {\n",
       "        vertical-align: middle;\n",
       "    }\n",
       "\n",
       "    .dataframe tbody tr th {\n",
       "        vertical-align: top;\n",
       "    }\n",
       "\n",
       "    .dataframe thead th {\n",
       "        text-align: right;\n",
       "    }\n",
       "</style>\n",
       "<table border=\"1\" class=\"dataframe\">\n",
       "  <thead>\n",
       "    <tr style=\"text-align: right;\">\n",
       "      <th></th>\n",
       "      <th>SK_ID_CURR</th>\n",
       "      <th>TARGET</th>\n",
       "      <th>NAME_CONTRACT_TYPE</th>\n",
       "      <th>CODE_GENDER</th>\n",
       "      <th>FLAG_OWN_CAR</th>\n",
       "      <th>FLAG_OWN_REALTY</th>\n",
       "      <th>CNT_CHILDREN</th>\n",
       "      <th>AMT_INCOME_TOTAL</th>\n",
       "      <th>AMT_CREDIT</th>\n",
       "      <th>AMT_ANNUITY</th>\n",
       "      <th>...</th>\n",
       "      <th>FLAG_DOCUMENT_18</th>\n",
       "      <th>FLAG_DOCUMENT_19</th>\n",
       "      <th>FLAG_DOCUMENT_20</th>\n",
       "      <th>FLAG_DOCUMENT_21</th>\n",
       "      <th>AMT_REQ_CREDIT_BUREAU_HOUR</th>\n",
       "      <th>AMT_REQ_CREDIT_BUREAU_DAY</th>\n",
       "      <th>AMT_REQ_CREDIT_BUREAU_WEEK</th>\n",
       "      <th>AMT_REQ_CREDIT_BUREAU_MON</th>\n",
       "      <th>AMT_REQ_CREDIT_BUREAU_QRT</th>\n",
       "      <th>AMT_REQ_CREDIT_BUREAU_YEAR</th>\n",
       "    </tr>\n",
       "  </thead>\n",
       "  <tbody>\n",
       "    <tr>\n",
       "      <th>12840</th>\n",
       "      <td>114967</td>\n",
       "      <td>1</td>\n",
       "      <td>Cash loans</td>\n",
       "      <td>F</td>\n",
       "      <td>N</td>\n",
       "      <td>Y</td>\n",
       "      <td>1</td>\n",
       "      <td>117000000.0</td>\n",
       "      <td>562491.0</td>\n",
       "      <td>26194.5</td>\n",
       "      <td>...</td>\n",
       "      <td>0</td>\n",
       "      <td>0</td>\n",
       "      <td>0</td>\n",
       "      <td>0</td>\n",
       "      <td>0.0</td>\n",
       "      <td>0.0</td>\n",
       "      <td>0.0</td>\n",
       "      <td>0.0</td>\n",
       "      <td>0.0</td>\n",
       "      <td>1.0</td>\n",
       "    </tr>\n",
       "    <tr>\n",
       "      <th>203693</th>\n",
       "      <td>336147</td>\n",
       "      <td>0</td>\n",
       "      <td>Cash loans</td>\n",
       "      <td>M</td>\n",
       "      <td>Y</td>\n",
       "      <td>Y</td>\n",
       "      <td>2</td>\n",
       "      <td>18000090.0</td>\n",
       "      <td>675000.0</td>\n",
       "      <td>69295.5</td>\n",
       "      <td>...</td>\n",
       "      <td>0</td>\n",
       "      <td>0</td>\n",
       "      <td>0</td>\n",
       "      <td>0</td>\n",
       "      <td>NaN</td>\n",
       "      <td>NaN</td>\n",
       "      <td>NaN</td>\n",
       "      <td>NaN</td>\n",
       "      <td>NaN</td>\n",
       "      <td>NaN</td>\n",
       "    </tr>\n",
       "    <tr>\n",
       "      <th>246858</th>\n",
       "      <td>385674</td>\n",
       "      <td>0</td>\n",
       "      <td>Cash loans</td>\n",
       "      <td>M</td>\n",
       "      <td>Y</td>\n",
       "      <td>Y</td>\n",
       "      <td>0</td>\n",
       "      <td>13500000.0</td>\n",
       "      <td>1400503.5</td>\n",
       "      <td>130945.5</td>\n",
       "      <td>...</td>\n",
       "      <td>0</td>\n",
       "      <td>0</td>\n",
       "      <td>0</td>\n",
       "      <td>0</td>\n",
       "      <td>NaN</td>\n",
       "      <td>NaN</td>\n",
       "      <td>NaN</td>\n",
       "      <td>NaN</td>\n",
       "      <td>NaN</td>\n",
       "      <td>NaN</td>\n",
       "    </tr>\n",
       "    <tr>\n",
       "      <th>77768</th>\n",
       "      <td>190160</td>\n",
       "      <td>0</td>\n",
       "      <td>Cash loans</td>\n",
       "      <td>F</td>\n",
       "      <td>Y</td>\n",
       "      <td>N</td>\n",
       "      <td>0</td>\n",
       "      <td>9000000.0</td>\n",
       "      <td>1431531.0</td>\n",
       "      <td>132601.5</td>\n",
       "      <td>...</td>\n",
       "      <td>0</td>\n",
       "      <td>0</td>\n",
       "      <td>0</td>\n",
       "      <td>0</td>\n",
       "      <td>0.0</td>\n",
       "      <td>0.0</td>\n",
       "      <td>0.0</td>\n",
       "      <td>0.0</td>\n",
       "      <td>0.0</td>\n",
       "      <td>0.0</td>\n",
       "    </tr>\n",
       "    <tr>\n",
       "      <th>131127</th>\n",
       "      <td>252084</td>\n",
       "      <td>0</td>\n",
       "      <td>Cash loans</td>\n",
       "      <td>M</td>\n",
       "      <td>Y</td>\n",
       "      <td>N</td>\n",
       "      <td>0</td>\n",
       "      <td>6750000.0</td>\n",
       "      <td>790830.0</td>\n",
       "      <td>52978.5</td>\n",
       "      <td>...</td>\n",
       "      <td>0</td>\n",
       "      <td>0</td>\n",
       "      <td>0</td>\n",
       "      <td>0</td>\n",
       "      <td>0.0</td>\n",
       "      <td>0.0</td>\n",
       "      <td>1.0</td>\n",
       "      <td>0.0</td>\n",
       "      <td>0.0</td>\n",
       "      <td>4.0</td>\n",
       "    </tr>\n",
       "    <tr>\n",
       "      <th>103006</th>\n",
       "      <td>219563</td>\n",
       "      <td>0</td>\n",
       "      <td>Revolving loans</td>\n",
       "      <td>M</td>\n",
       "      <td>Y</td>\n",
       "      <td>Y</td>\n",
       "      <td>0</td>\n",
       "      <td>4500000.0</td>\n",
       "      <td>2250000.0</td>\n",
       "      <td>225000.0</td>\n",
       "      <td>...</td>\n",
       "      <td>0</td>\n",
       "      <td>0</td>\n",
       "      <td>0</td>\n",
       "      <td>0</td>\n",
       "      <td>0.0</td>\n",
       "      <td>0.0</td>\n",
       "      <td>0.0</td>\n",
       "      <td>0.0</td>\n",
       "      <td>0.0</td>\n",
       "      <td>2.0</td>\n",
       "    </tr>\n",
       "    <tr>\n",
       "      <th>287463</th>\n",
       "      <td>432980</td>\n",
       "      <td>0</td>\n",
       "      <td>Cash loans</td>\n",
       "      <td>M</td>\n",
       "      <td>Y</td>\n",
       "      <td>Y</td>\n",
       "      <td>0</td>\n",
       "      <td>4500000.0</td>\n",
       "      <td>1755000.0</td>\n",
       "      <td>61132.5</td>\n",
       "      <td>...</td>\n",
       "      <td>0</td>\n",
       "      <td>0</td>\n",
       "      <td>0</td>\n",
       "      <td>0</td>\n",
       "      <td>0.0</td>\n",
       "      <td>0.0</td>\n",
       "      <td>1.0</td>\n",
       "      <td>0.0</td>\n",
       "      <td>0.0</td>\n",
       "      <td>0.0</td>\n",
       "    </tr>\n",
       "    <tr>\n",
       "      <th>187833</th>\n",
       "      <td>317748</td>\n",
       "      <td>0</td>\n",
       "      <td>Cash loans</td>\n",
       "      <td>M</td>\n",
       "      <td>N</td>\n",
       "      <td>N</td>\n",
       "      <td>0</td>\n",
       "      <td>4500000.0</td>\n",
       "      <td>835380.0</td>\n",
       "      <td>42651.0</td>\n",
       "      <td>...</td>\n",
       "      <td>0</td>\n",
       "      <td>0</td>\n",
       "      <td>0</td>\n",
       "      <td>0</td>\n",
       "      <td>0.0</td>\n",
       "      <td>0.0</td>\n",
       "      <td>0.0</td>\n",
       "      <td>0.0</td>\n",
       "      <td>0.0</td>\n",
       "      <td>2.0</td>\n",
       "    </tr>\n",
       "    <tr>\n",
       "      <th>204564</th>\n",
       "      <td>337151</td>\n",
       "      <td>0</td>\n",
       "      <td>Cash loans</td>\n",
       "      <td>M</td>\n",
       "      <td>N</td>\n",
       "      <td>N</td>\n",
       "      <td>0</td>\n",
       "      <td>4500000.0</td>\n",
       "      <td>450000.0</td>\n",
       "      <td>47749.5</td>\n",
       "      <td>...</td>\n",
       "      <td>0</td>\n",
       "      <td>0</td>\n",
       "      <td>0</td>\n",
       "      <td>0</td>\n",
       "      <td>NaN</td>\n",
       "      <td>NaN</td>\n",
       "      <td>NaN</td>\n",
       "      <td>NaN</td>\n",
       "      <td>NaN</td>\n",
       "      <td>NaN</td>\n",
       "    </tr>\n",
       "    <tr>\n",
       "      <th>181698</th>\n",
       "      <td>310601</td>\n",
       "      <td>0</td>\n",
       "      <td>Cash loans</td>\n",
       "      <td>M</td>\n",
       "      <td>Y</td>\n",
       "      <td>Y</td>\n",
       "      <td>1</td>\n",
       "      <td>3950059.5</td>\n",
       "      <td>675000.0</td>\n",
       "      <td>66217.5</td>\n",
       "      <td>...</td>\n",
       "      <td>1</td>\n",
       "      <td>0</td>\n",
       "      <td>0</td>\n",
       "      <td>0</td>\n",
       "      <td>0.0</td>\n",
       "      <td>0.0</td>\n",
       "      <td>0.0</td>\n",
       "      <td>0.0</td>\n",
       "      <td>0.0</td>\n",
       "      <td>1.0</td>\n",
       "    </tr>\n",
       "  </tbody>\n",
       "</table>\n",
       "<p>10 rows × 122 columns</p>\n",
       "</div>"
      ],
      "text/plain": [
       "        SK_ID_CURR  TARGET NAME_CONTRACT_TYPE CODE_GENDER FLAG_OWN_CAR  \\\n",
       "12840       114967       1         Cash loans           F            N   \n",
       "203693      336147       0         Cash loans           M            Y   \n",
       "246858      385674       0         Cash loans           M            Y   \n",
       "77768       190160       0         Cash loans           F            Y   \n",
       "131127      252084       0         Cash loans           M            Y   \n",
       "103006      219563       0    Revolving loans           M            Y   \n",
       "287463      432980       0         Cash loans           M            Y   \n",
       "187833      317748       0         Cash loans           M            N   \n",
       "204564      337151       0         Cash loans           M            N   \n",
       "181698      310601       0         Cash loans           M            Y   \n",
       "\n",
       "       FLAG_OWN_REALTY  CNT_CHILDREN  AMT_INCOME_TOTAL  AMT_CREDIT  \\\n",
       "12840                Y             1       117000000.0    562491.0   \n",
       "203693               Y             2        18000090.0    675000.0   \n",
       "246858               Y             0        13500000.0   1400503.5   \n",
       "77768                N             0         9000000.0   1431531.0   \n",
       "131127               N             0         6750000.0    790830.0   \n",
       "103006               Y             0         4500000.0   2250000.0   \n",
       "287463               Y             0         4500000.0   1755000.0   \n",
       "187833               N             0         4500000.0    835380.0   \n",
       "204564               N             0         4500000.0    450000.0   \n",
       "181698               Y             1         3950059.5    675000.0   \n",
       "\n",
       "        AMT_ANNUITY  ...  FLAG_DOCUMENT_18 FLAG_DOCUMENT_19 FLAG_DOCUMENT_20  \\\n",
       "12840       26194.5  ...                 0                0                0   \n",
       "203693      69295.5  ...                 0                0                0   \n",
       "246858     130945.5  ...                 0                0                0   \n",
       "77768      132601.5  ...                 0                0                0   \n",
       "131127      52978.5  ...                 0                0                0   \n",
       "103006     225000.0  ...                 0                0                0   \n",
       "287463      61132.5  ...                 0                0                0   \n",
       "187833      42651.0  ...                 0                0                0   \n",
       "204564      47749.5  ...                 0                0                0   \n",
       "181698      66217.5  ...                 1                0                0   \n",
       "\n",
       "       FLAG_DOCUMENT_21 AMT_REQ_CREDIT_BUREAU_HOUR AMT_REQ_CREDIT_BUREAU_DAY  \\\n",
       "12840                 0                        0.0                       0.0   \n",
       "203693                0                        NaN                       NaN   \n",
       "246858                0                        NaN                       NaN   \n",
       "77768                 0                        0.0                       0.0   \n",
       "131127                0                        0.0                       0.0   \n",
       "103006                0                        0.0                       0.0   \n",
       "287463                0                        0.0                       0.0   \n",
       "187833                0                        0.0                       0.0   \n",
       "204564                0                        NaN                       NaN   \n",
       "181698                0                        0.0                       0.0   \n",
       "\n",
       "        AMT_REQ_CREDIT_BUREAU_WEEK  AMT_REQ_CREDIT_BUREAU_MON  \\\n",
       "12840                          0.0                        0.0   \n",
       "203693                         NaN                        NaN   \n",
       "246858                         NaN                        NaN   \n",
       "77768                          0.0                        0.0   \n",
       "131127                         1.0                        0.0   \n",
       "103006                         0.0                        0.0   \n",
       "287463                         1.0                        0.0   \n",
       "187833                         0.0                        0.0   \n",
       "204564                         NaN                        NaN   \n",
       "181698                         0.0                        0.0   \n",
       "\n",
       "        AMT_REQ_CREDIT_BUREAU_QRT  AMT_REQ_CREDIT_BUREAU_YEAR  \n",
       "12840                         0.0                         1.0  \n",
       "203693                        NaN                         NaN  \n",
       "246858                        NaN                         NaN  \n",
       "77768                         0.0                         0.0  \n",
       "131127                        0.0                         4.0  \n",
       "103006                        0.0                         2.0  \n",
       "287463                        0.0                         0.0  \n",
       "187833                        0.0                         2.0  \n",
       "204564                        NaN                         NaN  \n",
       "181698                        0.0                         1.0  \n",
       "\n",
       "[10 rows x 122 columns]"
      ]
     },
     "execution_count": 121,
     "metadata": {},
     "output_type": "execute_result"
    }
   ],
   "source": [
    "sorted_df"
   ]
  },
  {
   "cell_type": "code",
   "execution_count": null,
   "id": "21896b42-d6d8-4c9c-aa18-c93848faa842",
   "metadata": {},
   "outputs": [],
   "source": []
  },
  {
   "cell_type": "markdown",
   "id": "fbd8aa29-0873-48b7-9bf0-f3220a8e9325",
   "metadata": {},
   "source": [
    "#### AGGREGATION AND GROUPING"
   ]
  },
  {
   "cell_type": "code",
   "execution_count": 190,
   "id": "311e1cc4-7efa-4be1-b4e0-9d0babbb1958",
   "metadata": {},
   "outputs": [],
   "source": [
    "#16. Count number of applicants per `OCCUPATION_TYPE`.\n",
    "\n",
    "no_of_applicants=df['OCCUPATION_TYPE'].value_counts()"
   ]
  },
  {
   "cell_type": "code",
   "execution_count": 191,
   "id": "215c1c47-df5c-4496-b3aa-13bfb35b2cf6",
   "metadata": {},
   "outputs": [
    {
     "name": "stdout",
     "output_type": "stream",
     "text": [
      "OCCUPATION_TYPE\n",
      "Laborers                 55186\n",
      "Sales staff              32102\n",
      "Core staff               27570\n",
      "Managers                 21371\n",
      "Drivers                  18603\n",
      "High skill tech staff    11380\n",
      "Accountants               9813\n",
      "Medicine staff            8537\n",
      "Security staff            6721\n",
      "Cooking staff             5946\n",
      "Cleaning staff            4653\n",
      "Private service staff     2652\n",
      "Low-skill Laborers        2093\n",
      "Waiters/barmen staff      1348\n",
      "Secretaries               1305\n",
      "Realty agents              751\n",
      "HR staff                   563\n",
      "IT staff                   526\n",
      "Name: count, dtype: int64\n"
     ]
    }
   ],
   "source": [
    "print(no_of_applicants)"
   ]
  },
  {
   "cell_type": "code",
   "execution_count": null,
   "id": "f4bb6d43-7180-483c-9b96-aa1e7fc444e1",
   "metadata": {},
   "outputs": [],
   "source": []
  },
  {
   "cell_type": "code",
   "execution_count": null,
   "id": "07dbc743-2a34-423c-8950-3caeaa7a84ae",
   "metadata": {},
   "outputs": [],
   "source": []
  },
  {
   "cell_type": "code",
   "execution_count": 192,
   "id": "f30d563b-b5c0-42ad-b8b9-a342da4e886c",
   "metadata": {},
   "outputs": [
    {
     "name": "stdout",
     "output_type": "stream",
     "text": [
      "                 mean    median            std\n",
      "TARGET                                        \n",
      "0       602648.282002  517788.0  406845.907710\n",
      "1       557778.527674  497520.0  346433.235646\n"
     ]
    }
   ],
   "source": [
    "#17. Find mean, median, and std dev of `AMT_CREDIT` grouped by `TARGET`.\n",
    "\n",
    "value=df.groupby('TARGET')['AMT_CREDIT'].agg(['mean','median','std'])\n",
    "print(value)"
   ]
  },
  {
   "cell_type": "code",
   "execution_count": null,
   "id": "11b3a1c2-f9a5-4b6c-be9c-289b035bc423",
   "metadata": {},
   "outputs": [],
   "source": []
  },
  {
   "cell_type": "code",
   "execution_count": null,
   "id": "75423199-48af-48a4-8f9e-fe98175b4ab4",
   "metadata": {},
   "outputs": [],
   "source": []
  },
  {
   "cell_type": "code",
   "execution_count": 193,
   "id": "b1af7410-4e1a-4b00-b5fb-655373118f1b",
   "metadata": {},
   "outputs": [
    {
     "name": "stdout",
     "output_type": "stream",
     "text": [
      "TARGET                                     0              1\n",
      "NAME_EDUCATION_TYPE                                        \n",
      "Academic degree                719290.844720  950245.500000\n",
      "Higher education               692438.297379  645981.010851\n",
      "Incomplete higher              569696.524880  534740.986239\n",
      "Lower secondary                490749.537511  481589.525180\n",
      "Secondary / secondary special  574033.649640  542263.182160\n"
     ]
    }
   ],
   "source": [
    "#18. Create a pivot table of `AMT_CREDIT` vs `NAME_EDUCATION_TYPE` and `TARGET`.\n",
    "\n",
    "\n",
    "# Assuming you have a DataFrame named df\n",
    "pivot_table = pd.pivot_table(\n",
    "    df,\n",
    "    values='AMT_CREDIT',\n",
    "    index='NAME_EDUCATION_TYPE',\n",
    "    columns='TARGET',\n",
    "    aggfunc='mean'\n",
    ")\n",
    "\n",
    "print(pivot_table)\n"
   ]
  },
  {
   "cell_type": "code",
   "execution_count": null,
   "id": "271d8e06-b519-4e60-8192-b710a67f0c19",
   "metadata": {},
   "outputs": [],
   "source": []
  },
  {
   "cell_type": "code",
   "execution_count": 194,
   "id": "6992854f-ba6c-4601-82ce-279f093cbe20",
   "metadata": {},
   "outputs": [
    {
     "name": "stdout",
     "output_type": "stream",
     "text": [
      "FLAG_OWN_CAR\n",
      "N    202924\n",
      "Y    104587\n",
      "Name: count, dtype: int64\n"
     ]
    }
   ],
   "source": [
    "#19. Count how many applicants own a car vs not (`FLAG_OWN_CAR`).\n",
    "\n",
    "car_status=df['FLAG_OWN_CAR'].value_counts()\n",
    "print(car_status)"
   ]
  },
  {
   "cell_type": "code",
   "execution_count": null,
   "id": "dce9aa64-96f7-4c1a-b48c-e457cd5733c9",
   "metadata": {},
   "outputs": [],
   "source": []
  },
  {
   "cell_type": "code",
   "execution_count": null,
   "id": "28aded0b-287d-48a4-b397-6dab3391f263",
   "metadata": {},
   "outputs": [],
   "source": [
    "\n"
   ]
  },
  {
   "cell_type": "code",
   "execution_count": 195,
   "id": "965f857d-6468-40e8-ba89-fb96b29dfc80",
   "metadata": {},
   "outputs": [
    {
     "name": "stdout",
     "output_type": "stream",
     "text": [
      "NAME_FAMILY_STATUS\n",
      "Civil marriage          15160.057565\n",
      "Married                 16067.452274\n",
      "Separated               16921.698938\n",
      "Single / not married    14336.475772\n",
      "Unknown                 12620.000000\n",
      "Widow                   21004.839508\n",
      "Name: DAYS_BIRTH, dtype: float64\n"
     ]
    }
   ],
   "source": [
    "#20. Find average `DAYS_BIRTH` grouped by `NAME_FAMILY_STATUS`.\n",
    "\n",
    "average=df.groupby('NAME_FAMILY_STATUS')['DAYS_BIRTH'].mean()\n",
    "print(abs(average))"
   ]
  },
  {
   "cell_type": "code",
   "execution_count": null,
   "id": "91237f7a-fcf3-45ca-a5c4-fbca06c14477",
   "metadata": {},
   "outputs": [],
   "source": []
  },
  {
   "cell_type": "code",
   "execution_count": null,
   "id": "20992b7d-b5e0-47ed-934a-2ce7c1efddd8",
   "metadata": {},
   "outputs": [],
   "source": [
    "\n"
   ]
  },
  {
   "cell_type": "markdown",
   "id": "ff976a9c-027a-4aba-91eb-95bf5e78f3aa",
   "metadata": {},
   "source": [
    "#### FEATURE ENGINEERING"
   ]
  },
  {
   "cell_type": "code",
   "execution_count": 196,
   "id": "5a7290f9-742d-413f-a304-ecd3a688dc77",
   "metadata": {},
   "outputs": [],
   "source": [
    "#21. Create a new column: `AGE_YEARS = -DAYS_BIRTH / 365`.\n",
    "df['AGE_YEARS'] = -df['DAYS_BIRTH'] / 365"
   ]
  },
  {
   "cell_type": "code",
   "execution_count": 145,
   "id": "0d472cf4-58ac-4e11-b424-8016fa97c4b4",
   "metadata": {},
   "outputs": [
    {
     "data": {
      "text/plain": [
       "0         25.920548\n",
       "1         45.931507\n",
       "2         52.180822\n",
       "3         52.068493\n",
       "4         54.608219\n",
       "            ...    \n",
       "307506    25.553425\n",
       "307507    56.917808\n",
       "307508    41.002740\n",
       "307509    32.769863\n",
       "307510    46.180822\n",
       "Name: AGE_YEARS, Length: 307511, dtype: float64"
      ]
     },
     "execution_count": 145,
     "metadata": {},
     "output_type": "execute_result"
    }
   ],
   "source": [
    "df['AGE_YEARS']"
   ]
  },
  {
   "cell_type": "code",
   "execution_count": null,
   "id": "6b940fed-9f18-45a7-a095-305c5bcff1fd",
   "metadata": {},
   "outputs": [],
   "source": []
  },
  {
   "cell_type": "code",
   "execution_count": 197,
   "id": "aa5be45c-4562-4bd4-844d-d6152321e89d",
   "metadata": {},
   "outputs": [],
   "source": [
    "#22. Create a new column: `CREDIT_INCOME_RATIO = AMT_CREDIT / AMT_INCOME_TOTAL`.\n",
    "\n",
    "df['CREDIT_INCOME_RATIO'] = df['AMT_CREDIT']/df['AMT_INCOME_TOTAL']"
   ]
  },
  {
   "cell_type": "code",
   "execution_count": 150,
   "id": "15c087d2-2fe8-43d7-8051-af36e06a61a6",
   "metadata": {},
   "outputs": [
    {
     "data": {
      "text/plain": [
       "0         2.007889\n",
       "1         4.790750\n",
       "2         2.000000\n",
       "3         2.316167\n",
       "4         4.222222\n",
       "            ...   \n",
       "307506    1.617143\n",
       "307507    3.743750\n",
       "307508    4.429176\n",
       "307509    2.164368\n",
       "307510    4.285714\n",
       "Name: CREDIT_INCOME_RATIO, Length: 307511, dtype: float64"
      ]
     },
     "execution_count": 150,
     "metadata": {},
     "output_type": "execute_result"
    }
   ],
   "source": [
    "df['CREDIT_INCOME_RATIO']"
   ]
  },
  {
   "cell_type": "code",
   "execution_count": null,
   "id": "ac8bcd8a-cd0c-4193-9ba3-6f8130fc0a41",
   "metadata": {},
   "outputs": [],
   "source": []
  },
  {
   "cell_type": "code",
   "execution_count": 198,
   "id": "c5fa56f1-2c3e-4552-b91a-ca9c3c080f86",
   "metadata": {},
   "outputs": [],
   "source": [
    "#23. Bin `AGE_YEARS` into 5 quantile-based age groups.\n",
    "df['AGE_GROUP'] = pd.qcut(df['AGE_YEARS'], q=5, labels=[\n",
    "    'child', \n",
    "    'teen', \n",
    "    'adult', \n",
    "    'senior', \n",
    "    'super senior '\n",
    "])\n"
   ]
  },
  {
   "cell_type": "code",
   "execution_count": 153,
   "id": "3f010bb0-cb34-4807-888f-4dcccf19f6ba",
   "metadata": {},
   "outputs": [
    {
     "data": {
      "text/plain": [
       "0                 child\n",
       "1                 adult\n",
       "2                senior\n",
       "3                senior\n",
       "4                senior\n",
       "              ...      \n",
       "307506            child\n",
       "307507    super senior \n",
       "307508            adult\n",
       "307509             teen\n",
       "307510            adult\n",
       "Name: AGE_GROUP, Length: 307511, dtype: category\n",
       "Categories (5, object): ['child' < 'teen' < 'adult' < 'senior' < 'super senior ']"
      ]
     },
     "execution_count": 153,
     "metadata": {},
     "output_type": "execute_result"
    }
   ],
   "source": [
    "df['AGE_GROUP']"
   ]
  },
  {
   "cell_type": "code",
   "execution_count": null,
   "id": "17700019-45af-46f1-b593-8b7e9aff8e82",
   "metadata": {},
   "outputs": [],
   "source": []
  },
  {
   "cell_type": "code",
   "execution_count": null,
   "id": "4aec5217-ea9e-4d48-9c20-ad554dbfb396",
   "metadata": {},
   "outputs": [],
   "source": []
  },
  {
   "cell_type": "code",
   "execution_count": 199,
   "id": "1d21f077-1c5e-4e8f-a473-3dec212ac4b8",
   "metadata": {},
   "outputs": [],
   "source": [
    "#24. Encode `FLAG_OWN_CAR` as binary.\n",
    "df['FLAG_OWN_CAR_BINARY'] = df['FLAG_OWN_CAR'].map({'Y': 1, 'N': 0})\n",
    "\n"
   ]
  },
  {
   "cell_type": "code",
   "execution_count": 157,
   "id": "51ce0cca-6813-412f-a850-f716d25c0bb2",
   "metadata": {},
   "outputs": [
    {
     "data": {
      "text/plain": [
       "0         0\n",
       "1         0\n",
       "2         1\n",
       "3         0\n",
       "4         0\n",
       "         ..\n",
       "307506    0\n",
       "307507    0\n",
       "307508    0\n",
       "307509    0\n",
       "307510    0\n",
       "Name: FLAG_OWN_CAR_BINARY, Length: 307511, dtype: int64"
      ]
     },
     "execution_count": 157,
     "metadata": {},
     "output_type": "execute_result"
    }
   ],
   "source": [
    "df['FLAG_OWN_CAR_BINARY']"
   ]
  },
  {
   "cell_type": "code",
   "execution_count": null,
   "id": "660af812-253e-4ebe-bb65-7de8be0565b9",
   "metadata": {},
   "outputs": [],
   "source": []
  },
  {
   "cell_type": "code",
   "execution_count": 200,
   "id": "a80e9248-50e3-4327-a974-efa8609504a7",
   "metadata": {},
   "outputs": [],
   "source": [
    "#25. Extract year from `DAYS_EMPLOYED`.\n",
    "df['YEARS_EMPLOYED'] = (-df['DAYS_EMPLOYED'] // 365)"
   ]
  },
  {
   "cell_type": "code",
   "execution_count": 165,
   "id": "4f09cacf-150f-490f-a74e-67345c29f814",
   "metadata": {},
   "outputs": [
    {
     "data": {
      "text/plain": [
       "0            1\n",
       "1            3\n",
       "2            0\n",
       "3            8\n",
       "4            8\n",
       "          ... \n",
       "307506       0\n",
       "307507   -1001\n",
       "307508      21\n",
       "307509      13\n",
       "307510       3\n",
       "Name: YEARS_EMPLOYED, Length: 307511, dtype: int64"
      ]
     },
     "execution_count": 165,
     "metadata": {},
     "output_type": "execute_result"
    }
   ],
   "source": [
    "df['YEARS_EMPLOYED']"
   ]
  }
 ],
 "metadata": {
  "kernelspec": {
   "display_name": "Python 3 (ipykernel)",
   "language": "python",
   "name": "python3"
  },
  "language_info": {
   "codemirror_mode": {
    "name": "ipython",
    "version": 3
   },
   "file_extension": ".py",
   "mimetype": "text/x-python",
   "name": "python",
   "nbconvert_exporter": "python",
   "pygments_lexer": "ipython3",
   "version": "3.13.3"
  }
 },
 "nbformat": 4,
 "nbformat_minor": 5
}
